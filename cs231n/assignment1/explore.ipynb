{
 "cells": [
  {
   "cell_type": "code",
   "execution_count": null,
   "metadata": {
    "collapsed": true
   },
   "outputs": [],
   "source": [
    "import numpy as np"
   ]
  },
  {
   "cell_type": "code",
   "execution_count": null,
   "metadata": {
    "collapsed": false,
    "scrolled": true
   },
   "outputs": [],
   "source": [
    "l = np.random.rand(100, 10)\n",
    "y = np.random.randint(10, size=100)\n",
    "idx = np.hstack([np.expand_dims(np.arange(len(l)), axis=1), np.expand_dims(y, axis=1)])"
   ]
  },
  {
   "cell_type": "code",
   "execution_count": null,
   "metadata": {
    "collapsed": false
   },
   "outputs": [],
   "source": [
    "(l - np.expand_dims(l[np.arange(len(l)), y], axis=1))"
   ]
  },
  {
   "cell_type": "code",
   "execution_count": null,
   "metadata": {
    "collapsed": false
   },
   "outputs": [],
   "source": [
    "l"
   ]
  },
  {
   "cell_type": "code",
   "execution_count": null,
   "metadata": {
    "collapsed": false
   },
   "outputs": [],
   "source": [
    "np.expand_dims(l[np.arange(len(l)), y], axis=1)"
   ]
  },
  {
   "cell_type": "code",
   "execution_count": 27,
   "metadata": {
    "collapsed": true
   },
   "outputs": [],
   "source": [
    "l = np.random.rand(3, 2)"
   ]
  },
  {
   "cell_type": "code",
   "execution_count": 36,
   "metadata": {
    "collapsed": false
   },
   "outputs": [
    {
     "data": {
      "text/plain": [
       "array([[-1.        ,  0.57005469],\n",
       "       [ 0.74510235, -1.        ],\n",
       "       [-1.        ,  0.52573032]])"
      ]
     },
     "execution_count": 36,
     "metadata": {},
     "output_type": "execute_result"
    }
   ],
   "source": [
    "l"
   ]
  },
  {
   "cell_type": "code",
   "execution_count": 30,
   "metadata": {
    "collapsed": false
   },
   "outputs": [],
   "source": [
    "l[np.arange(3), np.array([0,1,0])] = -1"
   ]
  },
  {
   "cell_type": "code",
   "execution_count": 32,
   "metadata": {
    "collapsed": false
   },
   "outputs": [],
   "source": [
    "a = np.array([1,2,3])"
   ]
  },
  {
   "cell_type": "code",
   "execution_count": 33,
   "metadata": {
    "collapsed": false
   },
   "outputs": [
    {
     "data": {
      "text/plain": [
       "array([1, 2, 3])"
      ]
     },
     "execution_count": 33,
     "metadata": {},
     "output_type": "execute_result"
    }
   ],
   "source": [
    "a"
   ]
  },
  {
   "cell_type": "code",
   "execution_count": 35,
   "metadata": {
    "collapsed": false
   },
   "outputs": [
    {
     "data": {
      "text/plain": [
       "array([[-1.        ,  0.57005469],\n",
       "       [ 0.37255117, -0.5       ],\n",
       "       [-0.33333333,  0.17524344]])"
      ]
     },
     "execution_count": 35,
     "metadata": {},
     "output_type": "execute_result"
    }
   ],
   "source": [
    "l / np.expand_dims(a, 1)"
   ]
  },
  {
   "cell_type": "code",
   "execution_count": 37,
   "metadata": {
    "collapsed": false
   },
   "outputs": [
    {
     "data": {
      "text/plain": [
       "array([1, 2, 3])"
      ]
     },
     "execution_count": 37,
     "metadata": {},
     "output_type": "execute_result"
    }
   ],
   "source": [
    "a"
   ]
  },
  {
   "cell_type": "code",
   "execution_count": 38,
   "metadata": {
    "collapsed": true
   },
   "outputs": [],
   "source": [
    "b = np.array([2, 3])"
   ]
  },
  {
   "cell_type": "code",
   "execution_count": 48,
   "metadata": {
    "collapsed": false
   },
   "outputs": [
    {
     "data": {
      "text/plain": [
       "array([[2, 3],\n",
       "       [4, 6],\n",
       "       [6, 9]])"
      ]
     },
     "execution_count": 48,
     "metadata": {},
     "output_type": "execute_result"
    }
   ],
   "source": [
    "np.expand_dims(a, 1) * b"
   ]
  },
  {
   "cell_type": "code",
   "execution_count": 51,
   "metadata": {
    "collapsed": false
   },
   "outputs": [
    {
     "data": {
      "text/plain": [
       "array([0, 2, 3, 0])"
      ]
     },
     "execution_count": 51,
     "metadata": {},
     "output_type": "execute_result"
    }
   ],
   "source": [
    "a = np.array([-1, 3, 4, -2])\n",
    "b = np.array([1,2,3,4])\n",
    "b * (a >= 0)"
   ]
  },
  {
   "cell_type": "code",
   "execution_count": 57,
   "metadata": {
    "collapsed": false
   },
   "outputs": [
    {
     "data": {
      "text/plain": [
       "array([[ 0.57005469],\n",
       "       [ 0.74510235],\n",
       "       [ 0.52573032]])"
      ]
     },
     "execution_count": 57,
     "metadata": {},
     "output_type": "execute_result"
    }
   ],
   "source": [
    "l[np.arange(3), np.array([1,0,1])][:, np.newaxis]"
   ]
  },
  {
   "cell_type": "code",
   "execution_count": 58,
   "metadata": {
    "collapsed": false
   },
   "outputs": [
    {
     "data": {
      "text/plain": [
       "[10, 9, 8, 7, 6, 5, 4, 3, 2]"
      ]
     },
     "execution_count": 58,
     "metadata": {},
     "output_type": "execute_result"
    }
   ],
   "source": [
    "range(10, 1, -1)"
   ]
  },
  {
   "cell_type": "code",
   "execution_count": 59,
   "metadata": {
    "collapsed": true
   },
   "outputs": [],
   "source": [
    "a = np.random.randn(4,4)"
   ]
  },
  {
   "cell_type": "code",
   "execution_count": 72,
   "metadata": {
    "collapsed": false
   },
   "outputs": [
    {
     "data": {
      "text/plain": [
       "array([[ 1.63264141,  0.70322996, -0.39579976, -0.41460706],\n",
       "       [-2.20542275,  0.        , -0.33996665,  0.27732707],\n",
       "       [-1.72583067,  0.        ,  1.35076866,  0.70473944],\n",
       "       [ 0.        ,  2.08349233, -0.99356802,  0.33515009]])"
      ]
     },
     "execution_count": 72,
     "metadata": {},
     "output_type": "execute_result"
    }
   ],
   "source": [
    "a"
   ]
  },
  {
   "cell_type": "code",
   "execution_count": 62,
   "metadata": {
    "collapsed": false
   },
   "outputs": [
    {
     "data": {
      "text/plain": [
       "array([[ 1.63264141,  0.70322996,  0.        ,  0.        ],\n",
       "       [ 0.        ,  1.40447585,  0.        ,  0.27732707],\n",
       "       [ 0.        ,  0.62985153,  1.35076866,  0.70473944],\n",
       "       [ 0.31633482,  2.08349233,  0.        ,  0.33515009]])"
      ]
     },
     "execution_count": 62,
     "metadata": {},
     "output_type": "execute_result"
    }
   ],
   "source": [
    "np.maximum(0, a)"
   ]
  },
  {
   "cell_type": "code",
   "execution_count": 74,
   "metadata": {
    "collapsed": true
   },
   "outputs": [],
   "source": [
    "b = np.random.randn(4,4)"
   ]
  },
  {
   "cell_type": "code",
   "execution_count": 75,
   "metadata": {
    "collapsed": false
   },
   "outputs": [
    {
     "data": {
      "text/plain": [
       "array([[ 0.21810503, -1.01745093, -0.43231756,  0.76115637],\n",
       "       [ 0.16978245,  0.37972898,  0.41832836,  0.48427405],\n",
       "       [ 0.39951518,  1.17099092,  0.90655476, -0.76616891],\n",
       "       [ 0.14891425,  0.6786803 ,  0.95105295, -0.52094113]])"
      ]
     },
     "execution_count": 75,
     "metadata": {},
     "output_type": "execute_result"
    }
   ],
   "source": [
    "b"
   ]
  },
  {
   "cell_type": "code",
   "execution_count": 76,
   "metadata": {
    "collapsed": false
   },
   "outputs": [
    {
     "data": {
      "text/plain": [
       "array([[ 1.63264141,  0.        , -0.        , -0.41460706],\n",
       "       [-2.20542275,  0.        , -0.33996665,  0.27732707],\n",
       "       [-1.72583067,  0.        ,  1.35076866,  0.        ],\n",
       "       [ 0.        ,  2.08349233, -0.99356802,  0.        ]])"
      ]
     },
     "execution_count": 76,
     "metadata": {},
     "output_type": "execute_result"
    }
   ],
   "source": [
    "a * (b >= 0)"
   ]
  },
  {
   "cell_type": "code",
   "execution_count": 77,
   "metadata": {
    "collapsed": false
   },
   "outputs": [
    {
     "data": {
      "text/plain": [
       "array([[ 1.63264141,  0.70322996, -0.39579976, -0.41460706],\n",
       "       [-2.20542275,  0.        , -0.33996665,  0.27732707],\n",
       "       [-1.72583067,  0.        ,  1.35076866,  0.70473944],\n",
       "       [ 0.        ,  2.08349233, -0.99356802,  0.33515009]])"
      ]
     },
     "execution_count": 77,
     "metadata": {},
     "output_type": "execute_result"
    }
   ],
   "source": [
    "a"
   ]
  },
  {
   "cell_type": "code",
   "execution_count": 84,
   "metadata": {
    "collapsed": false
   },
   "outputs": [
    {
     "data": {
      "text/plain": [
       "array([[ 1.42857143,  1.42857143,  1.42857143,  0.        ],\n",
       "       [ 0.        ,  1.42857143,  0.        ,  1.42857143],\n",
       "       [ 1.42857143,  1.42857143,  1.42857143,  1.42857143],\n",
       "       [ 1.42857143,  0.        ,  1.42857143,  0.        ]])"
      ]
     },
     "execution_count": 84,
     "metadata": {},
     "output_type": "execute_result"
    }
   ],
   "source": [
    "(np.random.rand(*a.shape) < 0.7) / 0.7"
   ]
  },
  {
   "cell_type": "code",
   "execution_count": 85,
   "metadata": {
    "collapsed": false
   },
   "outputs": [
    {
     "data": {
      "text/plain": [
       "array([  1.00000000e+00,   1.62377674e+00,   2.63665090e+00,\n",
       "         4.28133240e+00,   6.95192796e+00,   1.12883789e+01,\n",
       "         1.83298071e+01,   2.97635144e+01,   4.83293024e+01,\n",
       "         7.84759970e+01,   1.27427499e+02,   2.06913808e+02,\n",
       "         3.35981829e+02,   5.45559478e+02,   8.85866790e+02,\n",
       "         1.43844989e+03,   2.33572147e+03,   3.79269019e+03,\n",
       "         6.15848211e+03,   1.00000000e+04])"
      ]
     },
     "execution_count": 85,
     "metadata": {},
     "output_type": "execute_result"
    }
   ],
   "source": [
    "np.logspace(0, 4, num=20)"
   ]
  },
  {
   "cell_type": "code",
   "execution_count": 82,
   "metadata": {
    "collapsed": false
   },
   "outputs": [
    {
     "data": {
      "text/plain": [
       "4"
      ]
     },
     "execution_count": 82,
     "metadata": {},
     "output_type": "execute_result"
    }
   ],
   "source": [
    "l.pop()"
   ]
  },
  {
   "cell_type": "code",
   "execution_count": 96,
   "metadata": {
    "collapsed": false
   },
   "outputs": [],
   "source": [
    "t = np.random.rand(3,3,3,3)"
   ]
  },
  {
   "cell_type": "code",
   "execution_count": 97,
   "metadata": {
    "collapsed": false
   },
   "outputs": [
    {
     "data": {
      "text/plain": [
       "array([[[[ 0.94131611,  0.28939157,  0.29011614],\n",
       "         [ 0.80872317,  0.23796201,  0.97141889],\n",
       "         [ 0.77126137,  0.49579777,  0.56812862]],\n",
       "\n",
       "        [[ 0.88841477,  0.58508253,  0.28591528],\n",
       "         [ 0.62189446,  0.98265269,  0.52184416],\n",
       "         [ 0.42962397,  0.38848529,  0.15478447]],\n",
       "\n",
       "        [[ 0.49142114,  0.613577  ,  0.00678973],\n",
       "         [ 0.48258183,  0.24890654,  0.51149887],\n",
       "         [ 0.68793864,  0.29465061,  0.32809506]]],\n",
       "\n",
       "\n",
       "       [[[ 0.88482712,  0.00388314,  0.15675285],\n",
       "         [ 0.0334039 ,  0.4934724 ,  0.19666019],\n",
       "         [ 0.93661533,  0.78127842,  0.68116399]],\n",
       "\n",
       "        [[ 0.78539591,  0.67314166,  0.93980553],\n",
       "         [ 0.59948132,  0.27530952,  0.94966898],\n",
       "         [ 0.08774375,  0.72857825,  0.88247585]],\n",
       "\n",
       "        [[ 0.79916398,  0.77673843,  0.04234804],\n",
       "         [ 0.77624586,  0.91910345,  0.40335783],\n",
       "         [ 0.32590244,  0.96507486,  0.91155843]]],\n",
       "\n",
       "\n",
       "       [[[ 0.1959493 ,  0.47653729,  0.90091161],\n",
       "         [ 0.32781063,  0.60774697,  0.56892757],\n",
       "         [ 0.63695031,  0.47245122,  0.14043889]],\n",
       "\n",
       "        [[ 0.1657275 ,  0.7016605 ,  0.8785028 ],\n",
       "         [ 0.50312417,  0.79619062,  0.49232169],\n",
       "         [ 0.19093564,  0.45754739,  0.06715902]],\n",
       "\n",
       "        [[ 0.40260073,  0.58981023,  0.89331966],\n",
       "         [ 0.48561991,  0.64290261,  0.23502009],\n",
       "         [ 0.85118996,  0.18365982,  0.3450597 ]]]])"
      ]
     },
     "execution_count": 97,
     "metadata": {},
     "output_type": "execute_result"
    }
   ],
   "source": [
    "t"
   ]
  },
  {
   "cell_type": "code",
   "execution_count": 98,
   "metadata": {
    "collapsed": false
   },
   "outputs": [
    {
     "data": {
      "text/plain": [
       "array([[[[ 0.        ,  0.        ,  0.        ,  0.        ,  0.        ],\n",
       "         [ 0.        ,  0.94131611,  0.28939157,  0.29011614,  0.        ],\n",
       "         [ 0.        ,  0.80872317,  0.23796201,  0.97141889,  0.        ],\n",
       "         [ 0.        ,  0.77126137,  0.49579777,  0.56812862,  0.        ],\n",
       "         [ 0.        ,  0.        ,  0.        ,  0.        ,  0.        ]],\n",
       "\n",
       "        [[ 0.        ,  0.        ,  0.        ,  0.        ,  0.        ],\n",
       "         [ 0.        ,  0.88841477,  0.58508253,  0.28591528,  0.        ],\n",
       "         [ 0.        ,  0.62189446,  0.98265269,  0.52184416,  0.        ],\n",
       "         [ 0.        ,  0.42962397,  0.38848529,  0.15478447,  0.        ],\n",
       "         [ 0.        ,  0.        ,  0.        ,  0.        ,  0.        ]],\n",
       "\n",
       "        [[ 0.        ,  0.        ,  0.        ,  0.        ,  0.        ],\n",
       "         [ 0.        ,  0.49142114,  0.613577  ,  0.00678973,  0.        ],\n",
       "         [ 0.        ,  0.48258183,  0.24890654,  0.51149887,  0.        ],\n",
       "         [ 0.        ,  0.68793864,  0.29465061,  0.32809506,  0.        ],\n",
       "         [ 0.        ,  0.        ,  0.        ,  0.        ,  0.        ]]],\n",
       "\n",
       "\n",
       "       [[[ 0.        ,  0.        ,  0.        ,  0.        ,  0.        ],\n",
       "         [ 0.        ,  0.88482712,  0.00388314,  0.15675285,  0.        ],\n",
       "         [ 0.        ,  0.0334039 ,  0.4934724 ,  0.19666019,  0.        ],\n",
       "         [ 0.        ,  0.93661533,  0.78127842,  0.68116399,  0.        ],\n",
       "         [ 0.        ,  0.        ,  0.        ,  0.        ,  0.        ]],\n",
       "\n",
       "        [[ 0.        ,  0.        ,  0.        ,  0.        ,  0.        ],\n",
       "         [ 0.        ,  0.78539591,  0.67314166,  0.93980553,  0.        ],\n",
       "         [ 0.        ,  0.59948132,  0.27530952,  0.94966898,  0.        ],\n",
       "         [ 0.        ,  0.08774375,  0.72857825,  0.88247585,  0.        ],\n",
       "         [ 0.        ,  0.        ,  0.        ,  0.        ,  0.        ]],\n",
       "\n",
       "        [[ 0.        ,  0.        ,  0.        ,  0.        ,  0.        ],\n",
       "         [ 0.        ,  0.79916398,  0.77673843,  0.04234804,  0.        ],\n",
       "         [ 0.        ,  0.77624586,  0.91910345,  0.40335783,  0.        ],\n",
       "         [ 0.        ,  0.32590244,  0.96507486,  0.91155843,  0.        ],\n",
       "         [ 0.        ,  0.        ,  0.        ,  0.        ,  0.        ]]],\n",
       "\n",
       "\n",
       "       [[[ 0.        ,  0.        ,  0.        ,  0.        ,  0.        ],\n",
       "         [ 0.        ,  0.1959493 ,  0.47653729,  0.90091161,  0.        ],\n",
       "         [ 0.        ,  0.32781063,  0.60774697,  0.56892757,  0.        ],\n",
       "         [ 0.        ,  0.63695031,  0.47245122,  0.14043889,  0.        ],\n",
       "         [ 0.        ,  0.        ,  0.        ,  0.        ,  0.        ]],\n",
       "\n",
       "        [[ 0.        ,  0.        ,  0.        ,  0.        ,  0.        ],\n",
       "         [ 0.        ,  0.1657275 ,  0.7016605 ,  0.8785028 ,  0.        ],\n",
       "         [ 0.        ,  0.50312417,  0.79619062,  0.49232169,  0.        ],\n",
       "         [ 0.        ,  0.19093564,  0.45754739,  0.06715902,  0.        ],\n",
       "         [ 0.        ,  0.        ,  0.        ,  0.        ,  0.        ]],\n",
       "\n",
       "        [[ 0.        ,  0.        ,  0.        ,  0.        ,  0.        ],\n",
       "         [ 0.        ,  0.40260073,  0.58981023,  0.89331966,  0.        ],\n",
       "         [ 0.        ,  0.48561991,  0.64290261,  0.23502009,  0.        ],\n",
       "         [ 0.        ,  0.85118996,  0.18365982,  0.3450597 ,  0.        ],\n",
       "         [ 0.        ,  0.        ,  0.        ,  0.        ,  0.        ]]]])"
      ]
     },
     "execution_count": 98,
     "metadata": {},
     "output_type": "execute_result"
    }
   ],
   "source": [
    "np.pad(t, ((0, 0), (0, 0), (1,1), (1,1)), 'constant', constant_values=0)"
   ]
  },
  {
   "cell_type": "code",
   "execution_count": 103,
   "metadata": {
    "collapsed": false
   },
   "outputs": [],
   "source": [
    "x = np.random.rand(3, 3, 3, 3)"
   ]
  },
  {
   "cell_type": "code",
   "execution_count": 104,
   "metadata": {
    "collapsed": true
   },
   "outputs": [],
   "source": [
    "w = np.random.rand(3, 2, 2)"
   ]
  },
  {
   "cell_type": "code",
   "execution_count": 110,
   "metadata": {
    "collapsed": false
   },
   "outputs": [
    {
     "data": {
      "text/plain": [
       "array([ 3.99677825,  2.83686494,  4.42679518])"
      ]
     },
     "execution_count": 110,
     "metadata": {},
     "output_type": "execute_result"
    }
   ],
   "source": [
    "np.sum((x[:, :, 1:3, 1:3] * w), axis=(1,2,3))"
   ]
  },
  {
   "cell_type": "code",
   "execution_count": 111,
   "metadata": {
    "collapsed": true
   },
   "outputs": [],
   "source": [
    "t = np.arange(4).reshape(2,2)"
   ]
  },
  {
   "cell_type": "code",
   "execution_count": 112,
   "metadata": {
    "collapsed": false
   },
   "outputs": [
    {
     "data": {
      "text/plain": [
       "array([[0, 1],\n",
       "       [2, 3]])"
      ]
     },
     "execution_count": 112,
     "metadata": {},
     "output_type": "execute_result"
    }
   ],
   "source": [
    "t"
   ]
  },
  {
   "cell_type": "code",
   "execution_count": 116,
   "metadata": {
    "collapsed": false
   },
   "outputs": [
    {
     "data": {
      "text/plain": [
       "array([[3, 2],\n",
       "       [1, 0]])"
      ]
     },
     "execution_count": 116,
     "metadata": {},
     "output_type": "execute_result"
    }
   ],
   "source": [
    "np.flip(np.flip(t, 0), 1)"
   ]
  },
  {
   "cell_type": "code",
   "execution_count": 117,
   "metadata": {
    "collapsed": false
   },
   "outputs": [
    {
     "data": {
      "text/plain": [
       "array([[0, 1],\n",
       "       [2, 3]])"
      ]
     },
     "execution_count": 117,
     "metadata": {},
     "output_type": "execute_result"
    }
   ],
   "source": [
    "t"
   ]
  },
  {
   "cell_type": "code",
   "execution_count": 121,
   "metadata": {
    "collapsed": false
   },
   "outputs": [
    {
     "data": {
      "text/plain": [
       "5"
      ]
     },
     "execution_count": 121,
     "metadata": {},
     "output_type": "execute_result"
    }
   ],
   "source": [
    "np.argmax(w)"
   ]
  },
  {
   "cell_type": "code",
   "execution_count": 132,
   "metadata": {
    "collapsed": false
   },
   "outputs": [
    {
     "data": {
      "text/plain": [
       "array([[ 0.14736168,  0.31689311],\n",
       "       [-0.45058268, -1.96346807]])"
      ]
     },
     "execution_count": 132,
     "metadata": {},
     "output_type": "execute_result"
    }
   ],
   "source": [
    "np.random.randn(2,2)"
   ]
  },
  {
   "cell_type": "code",
   "execution_count": 129,
   "metadata": {
    "collapsed": false
   },
   "outputs": [
    {
     "data": {
      "text/plain": [
       "array([[ 0.,  0.],\n",
       "       [ 0.,  0.]])"
      ]
     },
     "execution_count": 129,
     "metadata": {},
     "output_type": "execute_result"
    }
   ],
   "source": [
    "np.zeros((2,2))"
   ]
  },
  {
   "cell_type": "code",
   "execution_count": 133,
   "metadata": {
    "collapsed": false
   },
   "outputs": [
    {
     "data": {
      "text/plain": [
       "2.3025850929940459"
      ]
     },
     "execution_count": 133,
     "metadata": {},
     "output_type": "execute_result"
    }
   ],
   "source": [
    "np.log(10)"
   ]
  },
  {
   "cell_type": "code",
   "execution_count": 134,
   "metadata": {
    "collapsed": false
   },
   "outputs": [
    {
     "data": {
      "text/plain": [
       "0.087481749295711023"
      ]
     },
     "execution_count": 134,
     "metadata": {},
     "output_type": "execute_result"
    }
   ],
   "source": [
    "np.var(w)"
   ]
  },
  {
   "cell_type": "code",
   "execution_count": 135,
   "metadata": {
    "collapsed": false
   },
   "outputs": [
    {
     "data": {
      "text/plain": [
       "0.29577313822541595"
      ]
     },
     "execution_count": 135,
     "metadata": {},
     "output_type": "execute_result"
    }
   ],
   "source": [
    "np.std(w)"
   ]
  },
  {
   "cell_type": "code",
   "execution_count": null,
   "metadata": {
    "collapsed": true
   },
   "outputs": [],
   "source": []
  }
 ],
 "metadata": {
  "kernelspec": {
   "display_name": "Python 2",
   "language": "python",
   "name": "python2"
  },
  "language_info": {
   "codemirror_mode": {
    "name": "ipython",
    "version": 2
   },
   "file_extension": ".py",
   "mimetype": "text/x-python",
   "name": "python",
   "nbconvert_exporter": "python",
   "pygments_lexer": "ipython2",
   "version": "2.7.13"
  }
 },
 "nbformat": 4,
 "nbformat_minor": 2
}
