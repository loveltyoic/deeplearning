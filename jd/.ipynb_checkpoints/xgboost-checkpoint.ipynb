{
 "cells": [
  {
   "cell_type": "code",
   "execution_count": 1,
   "metadata": {
    "collapsed": false
   },
   "outputs": [
    {
     "name": "stderr",
     "output_type": "stream",
     "text": [
      "/root/anaconda2/lib/python2.7/site-packages/sklearn/cross_validation.py:44: DeprecationWarning: This module was deprecated in version 0.18 in favor of the model_selection module into which all the refactored classes and functions are moved. Also note that the interface of the new CV iterators are different from that of this module. This module will be removed in 0.20.\n",
      "  \"This module will be removed in 0.20.\", DeprecationWarning)\n",
      "Using Theano backend.\n"
     ]
    }
   ],
   "source": [
    "import xgboost as xgb\n",
    "import pandas as pd\n",
    "import matplotlib.pyplot as plt\n",
    "%matplotlib inline\n",
    "import seaborn as sns\n",
    "sns.set(rc={\"figure.figsize\": (20, 10)})\n",
    "plt.rc('figure', figsize=(20, 10))\n",
    "import numpy as np\n",
    "import utils;reload(utils)\n",
    "from utils import *\n",
    "from keras.layers import Merge, Permute\n",
    "import pdb\n",
    "from sklearn.model_selection import train_test_split\n",
    "from scipy.stats.mstats import rankdata"
   ]
  },
  {
   "cell_type": "code",
   "execution_count": 2,
   "metadata": {
    "collapsed": true
   },
   "outputs": [],
   "source": [
    "data_dir = 'data_new/'"
   ]
  },
  {
   "cell_type": "code",
   "execution_count": 3,
   "metadata": {
    "collapsed": false
   },
   "outputs": [],
   "source": [
    "buy_cnn2d_trn = load_array(data_dir+'buy_cnn2d_trn')\n",
    "buy_cnn2d_trn_label = load_array(data_dir+'buy_cnn2d_trn_label')\n",
    "buy_cnn2d_cv = load_array(data_dir+'buy_cnn2d_cv')\n",
    "buy_cnn2d_cv_label = load_array(data_dir+'buy_cnn2d_cv_label')"
   ]
  },
  {
   "cell_type": "code",
   "execution_count": 4,
   "metadata": {
    "collapsed": false,
    "scrolled": true
   },
   "outputs": [],
   "source": [
    "user_feature = utils.get_basic_user_feat(data_dir)\n",
    "\n",
    "user_feature_dict = {}\n",
    "for row in user_feature.values:\n",
    "    user_feature_dict[row[0]] = row[1:]\n"
   ]
  },
  {
   "cell_type": "code",
   "execution_count": 5,
   "metadata": {
    "collapsed": false
   },
   "outputs": [],
   "source": [
    "users = load_array(data_dir+'users')"
   ]
  },
  {
   "cell_type": "code",
   "execution_count": 6,
   "metadata": {
    "collapsed": false
   },
   "outputs": [],
   "source": [
    "items = load_array(data_dir+'products')"
   ]
  },
  {
   "cell_type": "code",
   "execution_count": 7,
   "metadata": {
    "collapsed": false
   },
   "outputs": [],
   "source": [
    "buy_user_feat_trn = np.array([user_feature_dict[users[int(uidx)]] for uidx in buy_cnn2d_trn[:, 0, 0, 0]])\n",
    "buy_user_feat_cv = np.array([user_feature_dict[users[int(uidx)]] for uidx in buy_cnn2d_cv[:, 0, 0, 0]])"
   ]
  },
  {
   "cell_type": "code",
   "execution_count": 8,
   "metadata": {
    "collapsed": true
   },
   "outputs": [],
   "source": [
    "cv_neg = buy_cnn2d_cv[buy_cnn2d_cv_label[:, 1] == 0]\n",
    "# cv_pos_unused, cv_pos = train_test_split(buy_cnn2d_cv[buy_cnn2d_cv_label[:, 1] == 1], test_size=len(cv_neg)/40)\n",
    "cv_pos = buy_cnn2d_cv[buy_cnn2d_cv_label[:, 1] == 1]\n",
    "buy_cnn2d_cv_imitate = np.vstack((cv_pos, cv_neg))\n",
    "buy_cnn2d_cv_imitate_label = np.vstack((np.ones((len(cv_pos), 2)), np.zeros((len(cv_neg), 2))))"
   ]
  },
  {
   "cell_type": "code",
   "execution_count": 9,
   "metadata": {
    "collapsed": true
   },
   "outputs": [],
   "source": [
    "buy_user_feat_cv_imitate = np.array([user_feature_dict[users[int(uidx)]] for uidx in buy_cnn2d_cv_imitate[:, 0, 0, 0]])"
   ]
  },
  {
   "cell_type": "code",
   "execution_count": 10,
   "metadata": {
    "collapsed": false
   },
   "outputs": [],
   "source": [
    "total_days = 10\n",
    "days = 10\n",
    "top_skus = 10\n",
    "filter_day = 2\n",
    "filter_sku = 2\n",
    "days_offset = total_days-days\n",
    "\n",
    "type_select = [1,2,3,5,6,7,8,9,10,11,12]\n",
    "type_select_map = range(2, buy_cnn2d_trn.shape[-1])#[i-1+2 for i in type_select]\n",
    "type_select_count = len(type_select_map)"
   ]
  },
  {
   "cell_type": "code",
   "execution_count": 11,
   "metadata": {
    "collapsed": true
   },
   "outputs": [],
   "source": [
    "trn = buy_cnn2d_trn[:, days_offset:, :top_skus, type_select_map]\n",
    "cv = buy_cnn2d_cv_imitate[:, days_offset:, :top_skus, type_select_map]"
   ]
  },
  {
   "cell_type": "code",
   "execution_count": 12,
   "metadata": {
    "collapsed": false
   },
   "outputs": [
    {
     "data": {
      "text/plain": [
       "array([[0, 0, 0, ..., 0, 0, 1],\n",
       "       [0, 0, 0, ..., 0, 0, 1],\n",
       "       [0, 0, 0, ..., 0, 0, 1],\n",
       "       ..., \n",
       "       [0, 0, 0, ..., 1, 0, 0],\n",
       "       [0, 0, 0, ..., 0, 1, 0],\n",
       "       [0, 0, 0, ..., 1, 0, 0]])"
      ]
     },
     "execution_count": 12,
     "metadata": {},
     "output_type": "execute_result"
    }
   ],
   "source": [
    "buy_user_feat_cv_imitate"
   ]
  },
  {
   "cell_type": "code",
   "execution_count": 13,
   "metadata": {
    "collapsed": false
   },
   "outputs": [],
   "source": [
    "dtrain = xgb.DMatrix(np.hstack((trn.reshape(trn.shape[0], -1), buy_user_feat_trn)), missing = -999.0, label= buy_cnn2d_trn_label[:, 1])\n",
    "dcv = xgb.DMatrix(np.hstack((cv.reshape(cv.shape[0], -1), buy_user_feat_cv_imitate)), missing= -999.0, label=buy_cnn2d_cv_imitate_label[:, 1])"
   ]
  },
  {
   "cell_type": "code",
   "execution_count": 14,
   "metadata": {
    "collapsed": false,
    "scrolled": true
   },
   "outputs": [
    {
     "name": "stdout",
     "output_type": "stream",
     "text": [
      "[0]\tval-auc:0.642522\ttrain-auc:0.72718\n",
      "[1]\tval-auc:0.661931\ttrain-auc:0.74618\n",
      "[2]\tval-auc:0.676418\ttrain-auc:0.755684\n",
      "[3]\tval-auc:0.672423\ttrain-auc:0.762242\n",
      "[4]\tval-auc:0.676616\ttrain-auc:0.768512\n",
      "[5]\tval-auc:0.676849\ttrain-auc:0.771498\n",
      "[6]\tval-auc:0.680775\ttrain-auc:0.773676\n",
      "[7]\tval-auc:0.685127\ttrain-auc:0.778857\n",
      "[8]\tval-auc:0.683483\ttrain-auc:0.781911\n",
      "[9]\tval-auc:0.681893\ttrain-auc:0.783933\n",
      "[10]\tval-auc:0.683988\ttrain-auc:0.783921\n",
      "[11]\tval-auc:0.685769\ttrain-auc:0.785017\n",
      "[12]\tval-auc:0.685166\ttrain-auc:0.78608\n",
      "[13]\tval-auc:0.687503\ttrain-auc:0.787651\n",
      "[14]\tval-auc:0.685553\ttrain-auc:0.789269\n",
      "[15]\tval-auc:0.687634\ttrain-auc:0.791711\n",
      "[16]\tval-auc:0.68749\ttrain-auc:0.79465\n",
      "[17]\tval-auc:0.689411\ttrain-auc:0.798759\n",
      "[18]\tval-auc:0.691229\ttrain-auc:0.800297\n",
      "[19]\tval-auc:0.690022\ttrain-auc:0.801762\n",
      "[20]\tval-auc:0.691479\ttrain-auc:0.804504\n",
      "[21]\tval-auc:0.692408\ttrain-auc:0.806005\n",
      "[22]\tval-auc:0.690744\ttrain-auc:0.806296\n",
      "[23]\tval-auc:0.691356\ttrain-auc:0.808894\n",
      "[24]\tval-auc:0.694209\ttrain-auc:0.811375\n",
      "[25]\tval-auc:0.69343\ttrain-auc:0.812079\n",
      "[26]\tval-auc:0.694711\ttrain-auc:0.813558\n",
      "[27]\tval-auc:0.696763\ttrain-auc:0.815092\n",
      "[28]\tval-auc:0.696388\ttrain-auc:0.815564\n",
      "[29]\tval-auc:0.696654\ttrain-auc:0.817023\n",
      "[30]\tval-auc:0.698565\ttrain-auc:0.819048\n",
      "[31]\tval-auc:0.698083\ttrain-auc:0.819274\n",
      "[32]\tval-auc:0.697908\ttrain-auc:0.820928\n",
      "[33]\tval-auc:0.699112\ttrain-auc:0.822622\n",
      "[34]\tval-auc:0.697042\ttrain-auc:0.824312\n",
      "[35]\tval-auc:0.697962\ttrain-auc:0.826581\n",
      "[36]\tval-auc:0.697283\ttrain-auc:0.8271\n",
      "[37]\tval-auc:0.698367\ttrain-auc:0.829021\n",
      "[38]\tval-auc:0.697685\ttrain-auc:0.830234\n",
      "[39]\tval-auc:0.698218\ttrain-auc:0.830657\n",
      "[40]\tval-auc:0.698213\ttrain-auc:0.831967\n",
      "[41]\tval-auc:0.698732\ttrain-auc:0.83304\n",
      "[42]\tval-auc:0.699856\ttrain-auc:0.834823\n",
      "[43]\tval-auc:0.700107\ttrain-auc:0.834896\n",
      "[44]\tval-auc:0.701988\ttrain-auc:0.835831\n",
      "[45]\tval-auc:0.702601\ttrain-auc:0.836789\n",
      "[46]\tval-auc:0.703129\ttrain-auc:0.838089\n",
      "[47]\tval-auc:0.704719\ttrain-auc:0.839098\n",
      "[48]\tval-auc:0.705265\ttrain-auc:0.840452\n",
      "[49]\tval-auc:0.705892\ttrain-auc:0.841684\n",
      "[50]\tval-auc:0.707032\ttrain-auc:0.842774\n",
      "[51]\tval-auc:0.707982\ttrain-auc:0.844078\n",
      "[52]\tval-auc:0.709307\ttrain-auc:0.845116\n",
      "[53]\tval-auc:0.709273\ttrain-auc:0.845952\n",
      "[54]\tval-auc:0.709777\ttrain-auc:0.846726\n",
      "[55]\tval-auc:0.708486\ttrain-auc:0.847407\n",
      "[56]\tval-auc:0.708285\ttrain-auc:0.847937\n",
      "[57]\tval-auc:0.70853\ttrain-auc:0.849245\n",
      "[58]\tval-auc:0.707731\ttrain-auc:0.850831\n",
      "[59]\tval-auc:0.708502\ttrain-auc:0.851648\n",
      "[60]\tval-auc:0.708913\ttrain-auc:0.852722\n",
      "[61]\tval-auc:0.707552\ttrain-auc:0.853867\n",
      "[62]\tval-auc:0.708163\ttrain-auc:0.85507\n",
      "[63]\tval-auc:0.707871\ttrain-auc:0.856222\n",
      "[64]\tval-auc:0.708875\ttrain-auc:0.857278\n",
      "[65]\tval-auc:0.709016\ttrain-auc:0.858375\n",
      "[66]\tval-auc:0.70958\ttrain-auc:0.859306\n",
      "[67]\tval-auc:0.710279\ttrain-auc:0.860292\n",
      "[68]\tval-auc:0.710144\ttrain-auc:0.86102\n",
      "[69]\tval-auc:0.709939\ttrain-auc:0.862235\n",
      "[70]\tval-auc:0.709777\ttrain-auc:0.862794\n",
      "[71]\tval-auc:0.708371\ttrain-auc:0.863724\n",
      "[72]\tval-auc:0.708509\ttrain-auc:0.864677\n",
      "[73]\tval-auc:0.709263\ttrain-auc:0.865651\n",
      "[74]\tval-auc:0.709184\ttrain-auc:0.866284\n",
      "[75]\tval-auc:0.709347\ttrain-auc:0.867336\n",
      "[76]\tval-auc:0.708833\ttrain-auc:0.86856\n",
      "[77]\tval-auc:0.708739\ttrain-auc:0.869265\n",
      "[78]\tval-auc:0.708811\ttrain-auc:0.870144\n",
      "[79]\tval-auc:0.708803\ttrain-auc:0.871277\n",
      "[80]\tval-auc:0.708795\ttrain-auc:0.872013\n",
      "[81]\tval-auc:0.708295\ttrain-auc:0.87286\n",
      "[82]\tval-auc:0.707914\ttrain-auc:0.873468\n",
      "[83]\tval-auc:0.708134\ttrain-auc:0.873997\n",
      "[84]\tval-auc:0.707281\ttrain-auc:0.875143\n",
      "[85]\tval-auc:0.707928\ttrain-auc:0.87592\n",
      "[86]\tval-auc:0.708418\ttrain-auc:0.876678\n",
      "[87]\tval-auc:0.708335\ttrain-auc:0.87705\n",
      "[88]\tval-auc:0.708022\ttrain-auc:0.877605\n",
      "[89]\tval-auc:0.708311\ttrain-auc:0.878923\n",
      "[90]\tval-auc:0.709056\ttrain-auc:0.880114\n",
      "[91]\tval-auc:0.709136\ttrain-auc:0.880958\n",
      "[92]\tval-auc:0.708946\ttrain-auc:0.88116\n",
      "[93]\tval-auc:0.708919\ttrain-auc:0.882218\n",
      "[94]\tval-auc:0.708524\ttrain-auc:0.882886\n",
      "[95]\tval-auc:0.708614\ttrain-auc:0.884072\n",
      "[96]\tval-auc:0.708923\ttrain-auc:0.884989\n",
      "[97]\tval-auc:0.708966\ttrain-auc:0.885936\n",
      "[98]\tval-auc:0.708422\ttrain-auc:0.886744\n",
      "[99]\tval-auc:0.707524\ttrain-auc:0.887686\n"
     ]
    }
   ],
   "source": [
    "watchlist = [ (dcv,'val'), (dtrain, 'train') ]\n",
    "\n",
    "param = {'nthread': 8,\n",
    "         'booster': 'gbtree',\n",
    "         \"objective\": \"binary:logistic\",\n",
    "         \"eval_metric\": \"auc\", \"eta\":  0.05,\n",
    "         \"max_depth\": 2,\n",
    "         \"min_child_weight\": 10,\n",
    "         \"gamma\": 0.1,\n",
    "         \"lambda\": 0.5,\n",
    "         \"alpha\": 5,\n",
    "         \"scale_pos_weight\": 0.5,\n",
    "         \"subsample\": 0.8,\n",
    "         'early_stopping_rounds':100}\n",
    "\n",
    "num_round = 100\n",
    "bst = xgb.train(param, dtrain, num_round, evals=watchlist)"
   ]
  },
  {
   "cell_type": "code",
   "execution_count": 15,
   "metadata": {
    "collapsed": true
   },
   "outputs": [],
   "source": [
    "def f1(p, r):\n",
    "    return 6 * p * r / (5 * r + p)\n",
    "def f2(p, r):\n",
    "    return 5 * p * r / (3 * p + 2 * r)"
   ]
  },
  {
   "cell_type": "code",
   "execution_count": 16,
   "metadata": {
    "collapsed": false
   },
   "outputs": [],
   "source": [
    "# buy_cnn2d_cv[:, :, :, 1:2], \n",
    "cv_pred = bst.predict(dcv)\n",
    "cv_pred_df = pd.DataFrame(cv_pred)\n",
    "# cv_pred_df = pd.DataFrame(np.argmax(cv_pred, 1))"
   ]
  },
  {
   "cell_type": "code",
   "execution_count": 18,
   "metadata": {
    "collapsed": false
   },
   "outputs": [
    {
     "data": {
      "text/plain": [
       "(0.0711864406779661, 0.3684210526315789, 0.08224543080939949)"
      ]
     },
     "execution_count": 18,
     "metadata": {},
     "output_type": "execute_result"
    }
   ],
   "source": [
    "cv_pred_df['user_id'] = [users[int(i)] for i in list(buy_cnn2d_cv_imitate[:, 0, 0, 0])]\n",
    "\n",
    "cv_pred_df['buy'] = cv_pred_df.apply(lambda x: 1 if x[0] > 0.65 else 0, 1)\n",
    "\n",
    "cv_pred_df['true'] = buy_cnn2d_cv_imitate_label[:, 1]\n",
    "# cv_pred_df['true'] = [targets[i] for i in cnn_cv_label[:, 0]]\n",
    "\n",
    "p = len(cv_pred_df[(cv_pred_df.buy == 1) & (cv_pred_df.true == 1)]) / float(len(cv_pred_df[cv_pred_df.buy==1]))\n",
    "r = len(cv_pred_df[(cv_pred_df.buy == 1) & (cv_pred_df.true == 1)]) / float(len(cv_pred_df[cv_pred_df.true==1]))\n",
    "# p = len(cv_pred_df[cv_pred_df.buy == cv_pred_df.true]) / float(len(cv_pred_df))\n",
    "# r = len(cv_pred_df[cv_pred_df.buy == cv_pred_df.true]) / float(len(cv_pred_df))\n",
    "p, r, f1(p, r)"
   ]
  },
  {
   "cell_type": "code",
   "execution_count": null,
   "metadata": {
    "collapsed": false,
    "scrolled": true
   },
   "outputs": [],
   "source": [
    "test = load_array(data_dir+'test_cnn2d')"
   ]
  },
  {
   "cell_type": "code",
   "execution_count": 21,
   "metadata": {
    "collapsed": true
   },
   "outputs": [],
   "source": [
    "test_user_feat = np.array([user_feature_dict[users[int(uidx)]] for uidx in test[:, 0, 0, 0]])"
   ]
  },
  {
   "cell_type": "code",
   "execution_count": 22,
   "metadata": {
    "collapsed": true
   },
   "outputs": [],
   "source": [
    "test_matrix = test[:, days_offset:, :top_skus, type_select_map]"
   ]
  },
  {
   "cell_type": "code",
   "execution_count": 23,
   "metadata": {
    "collapsed": true
   },
   "outputs": [],
   "source": [
    "dtest = xgb.DMatrix(np.hstack((test_matrix.reshape(test_matrix.shape[0], -1), test_user_feat)), missing = -999.0)"
   ]
  },
  {
   "cell_type": "code",
   "execution_count": null,
   "metadata": {
    "collapsed": false
   },
   "outputs": [],
   "source": [
    "buy_predicted = bst.predict(dtest)"
   ]
  },
  {
   "cell_type": "code",
   "execution_count": 42,
   "metadata": {
    "collapsed": false
   },
   "outputs": [
    {
     "data": {
      "text/plain": [
       "0    53626\n",
       "1      533\n",
       "Name: is_buy, dtype: int64"
      ]
     },
     "execution_count": 42,
     "metadata": {},
     "output_type": "execute_result"
    }
   ],
   "source": [
    "test_pred_df = pd.DataFrame(buy_predicted)\n",
    "test_pred_df['user_id'] = [int(users[int(i)]) for i in list(test[:, 0, 0, 0])]\n",
    "test_pred_df['is_buy'] = test_pred_df.apply(lambda x: 1 if x[0] > 0.7 else 0, 1)\n",
    "test_pred_df['sku_id'] = 1\n",
    "test_pred_df.is_buy.value_counts()"
   ]
  },
  {
   "cell_type": "code",
   "execution_count": 43,
   "metadata": {
    "collapsed": false
   },
   "outputs": [
    {
     "name": "stdout",
     "output_type": "stream",
     "text": [
      "533\n"
     ]
    },
    {
     "data": {
      "text/html": [
       "<a href='xgb.csv' target='_blank'>xgb.csv</a><br>"
      ],
      "text/plain": [
       "/home/zhli7/notebook/jd/xgb.csv"
      ]
     },
     "execution_count": 43,
     "metadata": {},
     "output_type": "execute_result"
    }
   ],
   "source": [
    "result_df = test_pred_df[(test_pred_df.is_buy==1)&(test_pred_df.sku_id!=0)][['user_id', 'sku_id']]\n",
    "print len(result_df)\n",
    "result_df.to_csv(\"xgb.csv\", index=False)\n",
    "from IPython.display import FileLink\n",
    "FileLink('xgb.csv')"
   ]
  },
  {
   "cell_type": "code",
   "execution_count": 44,
   "metadata": {
    "collapsed": true
   },
   "outputs": [],
   "source": [
    "cnn = pd.read_csv('cnn2d.csv')"
   ]
  },
  {
   "cell_type": "code",
   "execution_count": 45,
   "metadata": {
    "collapsed": false
   },
   "outputs": [
    {
     "data": {
      "text/plain": [
       "71"
      ]
     },
     "execution_count": 45,
     "metadata": {},
     "output_type": "execute_result"
    }
   ],
   "source": [
    "ensemble = pd.merge(result_df, cnn, on='user_id', how='inner')\n",
    "len(ensemble)"
   ]
  },
  {
   "cell_type": "code",
   "execution_count": 46,
   "metadata": {
    "collapsed": false,
    "scrolled": true
   },
   "outputs": [],
   "source": [
    "ensemble['sku'] = ensemble.apply(lambda x: int(x['sku_id_x']) if math.isnan(x['sku_id_y']) else int(x['sku_id_y']), 1)"
   ]
  },
  {
   "cell_type": "code",
   "execution_count": 47,
   "metadata": {
    "collapsed": false
   },
   "outputs": [
    {
     "data": {
      "text/html": [
       "<a href='ensemble.csv' target='_blank'>ensemble.csv</a><br>"
      ],
      "text/plain": [
       "/home/zhli7/notebook/jd/ensemble.csv"
      ]
     },
     "execution_count": 47,
     "metadata": {},
     "output_type": "execute_result"
    }
   ],
   "source": [
    "ensemble[['user_id', 'sku']].to_csv(\"ensemble.csv\", index=False)\n",
    "from IPython.display import FileLink\n",
    "FileLink('ensemble.csv')"
   ]
  },
  {
   "cell_type": "code",
   "execution_count": null,
   "metadata": {
    "collapsed": true
   },
   "outputs": [],
   "source": []
  }
 ],
 "metadata": {
  "kernelspec": {
   "display_name": "Python 2",
   "language": "python",
   "name": "python2"
  },
  "language_info": {
   "codemirror_mode": {
    "name": "ipython",
    "version": 2
   },
   "file_extension": ".py",
   "mimetype": "text/x-python",
   "name": "python",
   "nbconvert_exporter": "python",
   "pygments_lexer": "ipython2",
   "version": "2.7.13"
  }
 },
 "nbformat": 4,
 "nbformat_minor": 2
}
