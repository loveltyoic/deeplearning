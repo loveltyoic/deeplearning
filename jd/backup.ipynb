{
 "cells": [
  {
   "cell_type": "code",
   "execution_count": null,
   "metadata": {
    "collapsed": true
   },
   "outputs": [],
   "source": [
    "def create_dataset(df):\n",
    "    tri_group = df.groupby(['user_id', 'sku_id_x', 'sku_id_y'])\n",
    "    trn = []\n",
    "    trn_label = []\n",
    "    for (uid, sid_buy, sid_oth), g in tri_group:\n",
    "        c_arr = [0] * 12\n",
    "        for t, c in g.type_y.value_counts().iteritems():\n",
    "            c_arr[t-1] = c\n",
    "            c_arr[t-1+6] = type_count[(sid_oth, t)]\n",
    "        trn.append([userid2idx[uid], itemid2idx[sid_oth]] + c_arr)\n",
    "        trn_label.append([targetid2idx[sid_buy] , 0 if sid_buy == 0 else 1])\n",
    "    return np.array(trn), np.array(trn_label)"
   ]
  },
  {
   "cell_type": "code",
   "execution_count": null,
   "metadata": {
    "collapsed": true
   },
   "outputs": [],
   "source": [
    "def create_cnn_dataset(df):\n",
    "    dual_group = df.groupby(['user_id', 'sku_id_x', 'time_x'])\n",
    "    feature = []\n",
    "    label = []\n",
    "    for (uid, sid_buy, time_buy), g in dual_group:\n",
    "#         print time_buy\n",
    "        window = []\n",
    "        date_range = pd.date_range(end=time_buy.strftime(\"%Y%m%d\"),\n",
    "                                   periods=11, freq='D', closed='left')\n",
    "#         print date_range\n",
    "        for d in date_range:\n",
    "            day = d.strftime(\"%Y%m%d\")\n",
    "#             print day\n",
    "            # 取一天之中action最多的商品\n",
    "            sku_day = g[g.time_y.dt.strftime(\"%Y%m%d\") == day]\n",
    "            sku_action_count = sku_day.sku_id_y.value_counts()\n",
    "            if len(sku_action_count) == 0:\n",
    "                max_sku_id = 0\n",
    "                c_arr = [0] * 12\n",
    "            else:\n",
    "                max_sku_id = np.argmax(sku_action_count)\n",
    "                max_sku_type = sku_day[sku_day.sku_id_y==max_sku_id]['type_y'].value_counts()\n",
    "                c_arr = [0] * 12\n",
    "                for t, c in max_sku_type.iteritems():\n",
    "                    c_arr[t-1] = c\n",
    "                    c_arr[t-1+6] = type_count[(max_sku_id, t)]\n",
    "            window.append([userid2idx[uid], itemid2idx[max_sku_id]] + c_arr)\n",
    "        feature.append(window)\n",
    "        label.append([targetid2idx[sid_buy], 0 if sid_buy == 0 else 1])\n",
    "    return np.array(feature), np.array(label)"
   ]
  },
  {
   "cell_type": "code",
   "execution_count": null,
   "metadata": {
    "collapsed": true
   },
   "outputs": [],
   "source": [
    "cnn_trn, cnn_trn_label = create_cnn_dataset(train)\n",
    "cnn_cv, cnn_cv_label = create_cnn_dataset(cv)"
   ]
  },
  {
   "cell_type": "code",
   "execution_count": null,
   "metadata": {
    "collapsed": true
   },
   "outputs": [],
   "source": [
    "# x = merge([u, it, tp], mode='concat')\n",
    "x = merge([it, tp], mode='concat')\n",
    "x = Flatten()(x)\n",
    "x = Dropout(0.3)(x)\n",
    "x = Dense(32, activation='relu')(x)\n",
    "x = Dropout(0.75)(x)\n",
    "buy_x = Dense(1, activation='sigmoid', name=\"buy\")(x)\n",
    "sku_x = Dense(n_targets, activation='softmax', name=\"sku\")(x)\n",
    "# nn = Model([user_in, item_in, type_in], x)\n",
    "nn = Model([item_in, type_in], [sku_x, buy_x])\n",
    "nn.compile(Adam(lr=0.001), loss=['sparse_categorical_crossentropy', 'binary_crossentropy'],\n",
    "           metrics=['accuracy', 'fmeasure'], loss_weights=[0.01, 1.])\n",
    "from keras.utils.visualize_util import plot\n",
    "plot(nn, to_file='nn.png', show_shapes=True)\n",
    "from IPython.display import Image\n",
    "Image(filename='nn.png')"
   ]
  },
  {
   "cell_type": "code",
   "execution_count": null,
   "metadata": {
    "collapsed": true
   },
   "outputs": [],
   "source": [
    "nn.fit([trn[:, 1], trn[:, 2:].reshape(len(trn), 1, 12)], [trn_label[:, 0], trn_label[:, 1]], \n",
    "       batch_size=64, nb_epoch=1,\n",
    "       validation_data=([val[:, 1], \n",
    "                         val[:, 2:].reshape(len(val), 1, 12)], \n",
    "                         [val_label[:, 0], val_label[:, 1]]))"
   ]
  },
  {
   "cell_type": "code",
   "execution_count": null,
   "metadata": {
    "collapsed": true
   },
   "outputs": [],
   "source": [
    "# , cnn_trn_label[:, 1]\n",
    "# , cnn_cv_label[:, 1]\n",
    "epoch=1\n",
    "conv_all.fit([cnn_trn[:, :, 1], cnn_trn[:, :, 2:8], cnn_trn[:, 0, 0].reshape((len(cnn_trn), 1))], [cnn_trn_label[:, 0]], \n",
    "            batch_size=64, nb_epoch=epoch,\n",
    "            validation_data=([cnn_cv[:, :, 1], cnn_cv[:, :, 2:8], cnn_cv[:, 0, 0].reshape((len(cnn_cv), 1))],\n",
    "                             [cnn_cv_label[:, 0]]))"
   ]
  }
 ],
 "metadata": {
  "kernelspec": {
   "display_name": "Python 2",
   "language": "python",
   "name": "python2"
  },
  "language_info": {
   "codemirror_mode": {
    "name": "ipython",
    "version": 2
   },
   "file_extension": ".py",
   "mimetype": "text/x-python",
   "name": "python",
   "nbconvert_exporter": "python",
   "pygments_lexer": "ipython2",
   "version": "2.7.13"
  }
 },
 "nbformat": 4,
 "nbformat_minor": 2
}
