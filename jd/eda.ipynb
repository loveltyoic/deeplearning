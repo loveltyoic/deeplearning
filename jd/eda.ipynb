{
 "cells": [
  {
   "cell_type": "code",
   "execution_count": 2,
   "metadata": {
    "collapsed": false,
    "scrolled": true
   },
   "outputs": [],
   "source": [
    "import pandas as pd\n",
    "import matplotlib.pyplot as plt\n",
    "%matplotlib inline\n",
    "import seaborn as sns\n",
    "sns.set(rc={\"figure.figsize\": (20, 10)})\n",
    "plt.rc('figure', figsize=(20, 10))\n",
    "import numpy as np\n",
    "import datetime\n",
    "from pandas import Timedelta"
   ]
  },
  {
   "cell_type": "code",
   "execution_count": null,
   "metadata": {
    "collapsed": false,
    "scrolled": true
   },
   "outputs": [],
   "source": [
    "action04 = pd.read_csv(\"JData_Action_201604.csv\", parse_dates=[\"time\"])\n",
    "action04_cate8 = action04[action04.cate==8]\n",
    "action04_cate8.to_csv(\"data/train/action04_cate8.csv\", \n",
    "                                                   index=False)\n",
    "buy04 = action04_cate8[action04_cate8.type==4]\n",
    "products = pd.read_csv(\"JData_Product.csv\")\n",
    "users = pd.read_csv(\"JData_User.csv\", encoding='gbk')"
   ]
  },
  {
   "cell_type": "code",
   "execution_count": null,
   "metadata": {
    "collapsed": false
   },
   "outputs": [],
   "source": [
    "\n",
    "action03 = pd.read_csv(\"JData_Action_201603.csv\", parse_dates=[\"time\"])\n",
    "action03_cate8 = action03[action03.cate==8]\n",
    "action03_cate8.to_csv(\"data/train/action03_cate8.csv\", \n",
    "                                                   index=False)\n",
    "\n",
    "buy03 = action03_cate8[action03_cate8.type==4]\n",
    "buy03.head(2)\n",
    "train03 = pd.merge(buy03, action03_cate8, on = 'user_id', how='left')"
   ]
  },
  {
   "cell_type": "code",
   "execution_count": 220,
   "metadata": {
    "collapsed": false
   },
   "outputs": [],
   "source": [
    "action0304_cate8 = pd.concat((action04_cate8, action03_cate8))\n",
    "train04 = pd.merge(buy04, action0304_cate8, on = 'user_id', how='left')"
   ]
  },
  {
   "cell_type": "code",
   "execution_count": 245,
   "metadata": {
    "collapsed": false
   },
   "outputs": [
    {
     "data": {
      "text/plain": [
       "26182526"
      ]
     },
     "execution_count": 245,
     "metadata": {},
     "output_type": "execute_result"
    }
   ],
   "source": [
    "len(action0304_cate8)"
   ]
  },
  {
   "cell_type": "code",
   "execution_count": 4,
   "metadata": {
    "collapsed": false,
    "scrolled": true
   },
   "outputs": [
    {
     "data": {
      "text/html": [
       "<div>\n",
       "<table border=\"1\" class=\"dataframe\">\n",
       "  <thead>\n",
       "    <tr style=\"text-align: right;\">\n",
       "      <th></th>\n",
       "      <th>user_id</th>\n",
       "      <th>age</th>\n",
       "      <th>sex</th>\n",
       "      <th>user_lv_cd</th>\n",
       "      <th>user_reg_dt</th>\n",
       "    </tr>\n",
       "  </thead>\n",
       "  <tbody>\n",
       "    <tr>\n",
       "      <th>0</th>\n",
       "      <td>54</td>\n",
       "      <td>-1</td>\n",
       "      <td>2</td>\n",
       "      <td>1</td>\n",
       "      <td>2016/1/26</td>\n",
       "    </tr>\n",
       "    <tr>\n",
       "      <th>1</th>\n",
       "      <td>79</td>\n",
       "      <td>36-45岁</td>\n",
       "      <td>2</td>\n",
       "      <td>2</td>\n",
       "      <td>2016/1/27</td>\n",
       "    </tr>\n",
       "    <tr>\n",
       "      <th>2</th>\n",
       "      <td>100</td>\n",
       "      <td>16-25岁</td>\n",
       "      <td>2</td>\n",
       "      <td>3</td>\n",
       "      <td>2016/1/27</td>\n",
       "    </tr>\n",
       "    <tr>\n",
       "      <th>3</th>\n",
       "      <td>266</td>\n",
       "      <td>15岁以下</td>\n",
       "      <td>2</td>\n",
       "      <td>2</td>\n",
       "      <td>2016/1/29</td>\n",
       "    </tr>\n",
       "    <tr>\n",
       "      <th>4</th>\n",
       "      <td>333</td>\n",
       "      <td>-1</td>\n",
       "      <td>2</td>\n",
       "      <td>4</td>\n",
       "      <td>2016/1/30</td>\n",
       "    </tr>\n",
       "    <tr>\n",
       "      <th>5</th>\n",
       "      <td>605</td>\n",
       "      <td>26-35岁</td>\n",
       "      <td>2</td>\n",
       "      <td>2</td>\n",
       "      <td>2016/2/1</td>\n",
       "    </tr>\n",
       "    <tr>\n",
       "      <th>6</th>\n",
       "      <td>638</td>\n",
       "      <td>26-35岁</td>\n",
       "      <td>0</td>\n",
       "      <td>5</td>\n",
       "      <td>2010/8/12</td>\n",
       "    </tr>\n",
       "    <tr>\n",
       "      <th>7</th>\n",
       "      <td>686</td>\n",
       "      <td>-1</td>\n",
       "      <td>2</td>\n",
       "      <td>1</td>\n",
       "      <td>2016/2/1</td>\n",
       "    </tr>\n",
       "    <tr>\n",
       "      <th>8</th>\n",
       "      <td>692</td>\n",
       "      <td>16-25岁</td>\n",
       "      <td>2</td>\n",
       "      <td>2</td>\n",
       "      <td>2016/2/1</td>\n",
       "    </tr>\n",
       "    <tr>\n",
       "      <th>9</th>\n",
       "      <td>819</td>\n",
       "      <td>26-35岁</td>\n",
       "      <td>2</td>\n",
       "      <td>3</td>\n",
       "      <td>2016/2/2</td>\n",
       "    </tr>\n",
       "    <tr>\n",
       "      <th>10</th>\n",
       "      <td>861</td>\n",
       "      <td>36-45岁</td>\n",
       "      <td>2</td>\n",
       "      <td>3</td>\n",
       "      <td>2016/2/2</td>\n",
       "    </tr>\n",
       "    <tr>\n",
       "      <th>11</th>\n",
       "      <td>1204</td>\n",
       "      <td>-1</td>\n",
       "      <td>2</td>\n",
       "      <td>1</td>\n",
       "      <td>2016/2/7</td>\n",
       "    </tr>\n",
       "    <tr>\n",
       "      <th>12</th>\n",
       "      <td>1331</td>\n",
       "      <td>-1</td>\n",
       "      <td>2</td>\n",
       "      <td>1</td>\n",
       "      <td>2016/2/8</td>\n",
       "    </tr>\n",
       "    <tr>\n",
       "      <th>13</th>\n",
       "      <td>1334</td>\n",
       "      <td>26-35岁</td>\n",
       "      <td>2</td>\n",
       "      <td>2</td>\n",
       "      <td>2016/2/8</td>\n",
       "    </tr>\n",
       "    <tr>\n",
       "      <th>14</th>\n",
       "      <td>1394</td>\n",
       "      <td>36-45岁</td>\n",
       "      <td>2</td>\n",
       "      <td>2</td>\n",
       "      <td>2016/2/9</td>\n",
       "    </tr>\n",
       "    <tr>\n",
       "      <th>15</th>\n",
       "      <td>1422</td>\n",
       "      <td>26-35岁</td>\n",
       "      <td>2</td>\n",
       "      <td>3</td>\n",
       "      <td>2016/2/10</td>\n",
       "    </tr>\n",
       "    <tr>\n",
       "      <th>16</th>\n",
       "      <td>1442</td>\n",
       "      <td>-1</td>\n",
       "      <td>0</td>\n",
       "      <td>5</td>\n",
       "      <td>2010/8/16</td>\n",
       "    </tr>\n",
       "    <tr>\n",
       "      <th>17</th>\n",
       "      <td>1598</td>\n",
       "      <td>-1</td>\n",
       "      <td>2</td>\n",
       "      <td>1</td>\n",
       "      <td>2016/2/12</td>\n",
       "    </tr>\n",
       "    <tr>\n",
       "      <th>18</th>\n",
       "      <td>1665</td>\n",
       "      <td>36-45岁</td>\n",
       "      <td>2</td>\n",
       "      <td>2</td>\n",
       "      <td>2016/2/13</td>\n",
       "    </tr>\n",
       "    <tr>\n",
       "      <th>19</th>\n",
       "      <td>1847</td>\n",
       "      <td>-1</td>\n",
       "      <td>2</td>\n",
       "      <td>1</td>\n",
       "      <td>2016/2/14</td>\n",
       "    </tr>\n",
       "    <tr>\n",
       "      <th>20</th>\n",
       "      <td>1892</td>\n",
       "      <td>-1</td>\n",
       "      <td>2</td>\n",
       "      <td>1</td>\n",
       "      <td>2016/2/14</td>\n",
       "    </tr>\n",
       "    <tr>\n",
       "      <th>21</th>\n",
       "      <td>1988</td>\n",
       "      <td>16-25岁</td>\n",
       "      <td>1</td>\n",
       "      <td>3</td>\n",
       "      <td>2016/2/15</td>\n",
       "    </tr>\n",
       "    <tr>\n",
       "      <th>22</th>\n",
       "      <td>2002</td>\n",
       "      <td>26-35岁</td>\n",
       "      <td>0</td>\n",
       "      <td>4</td>\n",
       "      <td>2013/4/23</td>\n",
       "    </tr>\n",
       "    <tr>\n",
       "      <th>23</th>\n",
       "      <td>2048</td>\n",
       "      <td>26-35岁</td>\n",
       "      <td>2</td>\n",
       "      <td>4</td>\n",
       "      <td>2016/2/16</td>\n",
       "    </tr>\n",
       "    <tr>\n",
       "      <th>24</th>\n",
       "      <td>2072</td>\n",
       "      <td>36-45岁</td>\n",
       "      <td>0</td>\n",
       "      <td>3</td>\n",
       "      <td>2016/2/16</td>\n",
       "    </tr>\n",
       "    <tr>\n",
       "      <th>25</th>\n",
       "      <td>2078</td>\n",
       "      <td>36-45岁</td>\n",
       "      <td>2</td>\n",
       "      <td>2</td>\n",
       "      <td>2016/2/16</td>\n",
       "    </tr>\n",
       "    <tr>\n",
       "      <th>26</th>\n",
       "      <td>2079</td>\n",
       "      <td>-1</td>\n",
       "      <td>2</td>\n",
       "      <td>1</td>\n",
       "      <td>2016/2/16</td>\n",
       "    </tr>\n",
       "    <tr>\n",
       "      <th>27</th>\n",
       "      <td>2189</td>\n",
       "      <td>26-35岁</td>\n",
       "      <td>2</td>\n",
       "      <td>3</td>\n",
       "      <td>2016/2/17</td>\n",
       "    </tr>\n",
       "    <tr>\n",
       "      <th>28</th>\n",
       "      <td>2231</td>\n",
       "      <td>26-35岁</td>\n",
       "      <td>0</td>\n",
       "      <td>5</td>\n",
       "      <td>2013/4/24</td>\n",
       "    </tr>\n",
       "    <tr>\n",
       "      <th>29</th>\n",
       "      <td>2276</td>\n",
       "      <td>36-45岁</td>\n",
       "      <td>1</td>\n",
       "      <td>5</td>\n",
       "      <td>2010/8/17</td>\n",
       "    </tr>\n",
       "    <tr>\n",
       "      <th>...</th>\n",
       "      <td>...</td>\n",
       "      <td>...</td>\n",
       "      <td>...</td>\n",
       "      <td>...</td>\n",
       "      <td>...</td>\n",
       "    </tr>\n",
       "    <tr>\n",
       "      <th>103586</th>\n",
       "      <td>84620</td>\n",
       "      <td>36-45岁</td>\n",
       "      <td>2</td>\n",
       "      <td>4</td>\n",
       "      <td>2015/7/20</td>\n",
       "    </tr>\n",
       "    <tr>\n",
       "      <th>103587</th>\n",
       "      <td>84824</td>\n",
       "      <td>36-45岁</td>\n",
       "      <td>0</td>\n",
       "      <td>4</td>\n",
       "      <td>2008/9/14</td>\n",
       "    </tr>\n",
       "    <tr>\n",
       "      <th>103588</th>\n",
       "      <td>85091</td>\n",
       "      <td>36-45岁</td>\n",
       "      <td>0</td>\n",
       "      <td>5</td>\n",
       "      <td>2006/10/27</td>\n",
       "    </tr>\n",
       "    <tr>\n",
       "      <th>103589</th>\n",
       "      <td>85991</td>\n",
       "      <td>26-35岁</td>\n",
       "      <td>0</td>\n",
       "      <td>5</td>\n",
       "      <td>2010/5/31</td>\n",
       "    </tr>\n",
       "    <tr>\n",
       "      <th>103590</th>\n",
       "      <td>86920</td>\n",
       "      <td>36-45岁</td>\n",
       "      <td>2</td>\n",
       "      <td>3</td>\n",
       "      <td>2015/8/18</td>\n",
       "    </tr>\n",
       "    <tr>\n",
       "      <th>103591</th>\n",
       "      <td>87235</td>\n",
       "      <td>26-35岁</td>\n",
       "      <td>0</td>\n",
       "      <td>4</td>\n",
       "      <td>2010/6/6</td>\n",
       "    </tr>\n",
       "    <tr>\n",
       "      <th>103592</th>\n",
       "      <td>91374</td>\n",
       "      <td>-1</td>\n",
       "      <td>2</td>\n",
       "      <td>3</td>\n",
       "      <td>2015/10/8</td>\n",
       "    </tr>\n",
       "    <tr>\n",
       "      <th>103593</th>\n",
       "      <td>93721</td>\n",
       "      <td>36-45岁</td>\n",
       "      <td>0</td>\n",
       "      <td>5</td>\n",
       "      <td>2013/1/25</td>\n",
       "    </tr>\n",
       "    <tr>\n",
       "      <th>103594</th>\n",
       "      <td>94327</td>\n",
       "      <td>36-45岁</td>\n",
       "      <td>0</td>\n",
       "      <td>4</td>\n",
       "      <td>2013/1/29</td>\n",
       "    </tr>\n",
       "    <tr>\n",
       "      <th>103595</th>\n",
       "      <td>94946</td>\n",
       "      <td>26-35岁</td>\n",
       "      <td>2</td>\n",
       "      <td>5</td>\n",
       "      <td>2015/11/7</td>\n",
       "    </tr>\n",
       "    <tr>\n",
       "      <th>103596</th>\n",
       "      <td>95232</td>\n",
       "      <td>16-25岁</td>\n",
       "      <td>2</td>\n",
       "      <td>4</td>\n",
       "      <td>2015/11/9</td>\n",
       "    </tr>\n",
       "    <tr>\n",
       "      <th>103597</th>\n",
       "      <td>95586</td>\n",
       "      <td>16-25岁</td>\n",
       "      <td>2</td>\n",
       "      <td>4</td>\n",
       "      <td>2013/2/10</td>\n",
       "    </tr>\n",
       "    <tr>\n",
       "      <th>103598</th>\n",
       "      <td>95634</td>\n",
       "      <td>36-45岁</td>\n",
       "      <td>2</td>\n",
       "      <td>3</td>\n",
       "      <td>2015/11/10</td>\n",
       "    </tr>\n",
       "    <tr>\n",
       "      <th>103599</th>\n",
       "      <td>95762</td>\n",
       "      <td>36-45岁</td>\n",
       "      <td>0</td>\n",
       "      <td>5</td>\n",
       "      <td>2010/7/8</td>\n",
       "    </tr>\n",
       "    <tr>\n",
       "      <th>103600</th>\n",
       "      <td>96822</td>\n",
       "      <td>-1</td>\n",
       "      <td>2</td>\n",
       "      <td>3</td>\n",
       "      <td>2015/11/14</td>\n",
       "    </tr>\n",
       "    <tr>\n",
       "      <th>103601</th>\n",
       "      <td>97028</td>\n",
       "      <td>26-35岁</td>\n",
       "      <td>2</td>\n",
       "      <td>5</td>\n",
       "      <td>2013/2/26</td>\n",
       "    </tr>\n",
       "    <tr>\n",
       "      <th>103602</th>\n",
       "      <td>98058</td>\n",
       "      <td>36-45岁</td>\n",
       "      <td>0</td>\n",
       "      <td>3</td>\n",
       "      <td>2013/3/4</td>\n",
       "    </tr>\n",
       "    <tr>\n",
       "      <th>103603</th>\n",
       "      <td>98661</td>\n",
       "      <td>36-45岁</td>\n",
       "      <td>0</td>\n",
       "      <td>5</td>\n",
       "      <td>2010/7/21</td>\n",
       "    </tr>\n",
       "    <tr>\n",
       "      <th>103604</th>\n",
       "      <td>100620</td>\n",
       "      <td>26-35岁</td>\n",
       "      <td>2</td>\n",
       "      <td>3</td>\n",
       "      <td>2015/12/26</td>\n",
       "    </tr>\n",
       "    <tr>\n",
       "      <th>103605</th>\n",
       "      <td>100745</td>\n",
       "      <td>36-45岁</td>\n",
       "      <td>0</td>\n",
       "      <td>4</td>\n",
       "      <td>2015/12/27</td>\n",
       "    </tr>\n",
       "    <tr>\n",
       "      <th>103606</th>\n",
       "      <td>101031</td>\n",
       "      <td>36-45岁</td>\n",
       "      <td>2</td>\n",
       "      <td>3</td>\n",
       "      <td>2015/12/31</td>\n",
       "    </tr>\n",
       "    <tr>\n",
       "      <th>103607</th>\n",
       "      <td>101033</td>\n",
       "      <td>36-45岁</td>\n",
       "      <td>2</td>\n",
       "      <td>3</td>\n",
       "      <td>2015/12/31</td>\n",
       "    </tr>\n",
       "    <tr>\n",
       "      <th>103608</th>\n",
       "      <td>101193</td>\n",
       "      <td>-1</td>\n",
       "      <td>2</td>\n",
       "      <td>4</td>\n",
       "      <td>2016/1/2</td>\n",
       "    </tr>\n",
       "    <tr>\n",
       "      <th>103609</th>\n",
       "      <td>101515</td>\n",
       "      <td>26-35岁</td>\n",
       "      <td>0</td>\n",
       "      <td>5</td>\n",
       "      <td>2013/3/28</td>\n",
       "    </tr>\n",
       "    <tr>\n",
       "      <th>103610</th>\n",
       "      <td>101654</td>\n",
       "      <td>26-35岁</td>\n",
       "      <td>2</td>\n",
       "      <td>2</td>\n",
       "      <td>2016/1/6</td>\n",
       "    </tr>\n",
       "    <tr>\n",
       "      <th>103611</th>\n",
       "      <td>101903</td>\n",
       "      <td>26-35岁</td>\n",
       "      <td>2</td>\n",
       "      <td>4</td>\n",
       "      <td>2016/1/9</td>\n",
       "    </tr>\n",
       "    <tr>\n",
       "      <th>103612</th>\n",
       "      <td>102078</td>\n",
       "      <td>36-45岁</td>\n",
       "      <td>2</td>\n",
       "      <td>4</td>\n",
       "      <td>2016/1/11</td>\n",
       "    </tr>\n",
       "    <tr>\n",
       "      <th>103613</th>\n",
       "      <td>102573</td>\n",
       "      <td>36-45岁</td>\n",
       "      <td>0</td>\n",
       "      <td>4</td>\n",
       "      <td>2013/4/4</td>\n",
       "    </tr>\n",
       "    <tr>\n",
       "      <th>103614</th>\n",
       "      <td>103402</td>\n",
       "      <td>26-35岁</td>\n",
       "      <td>0</td>\n",
       "      <td>4</td>\n",
       "      <td>2013/4/9</td>\n",
       "    </tr>\n",
       "    <tr>\n",
       "      <th>103615</th>\n",
       "      <td>103465</td>\n",
       "      <td>36-45岁</td>\n",
       "      <td>0</td>\n",
       "      <td>3</td>\n",
       "      <td>2016/1/24</td>\n",
       "    </tr>\n",
       "  </tbody>\n",
       "</table>\n",
       "<p>103616 rows × 5 columns</p>\n",
       "</div>"
      ],
      "text/plain": [
       "        user_id     age  sex  user_lv_cd user_reg_dt\n",
       "0            54      -1    2           1   2016/1/26\n",
       "1            79  36-45岁    2           2   2016/1/27\n",
       "2           100  16-25岁    2           3   2016/1/27\n",
       "3           266   15岁以下    2           2   2016/1/29\n",
       "4           333      -1    2           4   2016/1/30\n",
       "5           605  26-35岁    2           2    2016/2/1\n",
       "6           638  26-35岁    0           5   2010/8/12\n",
       "7           686      -1    2           1    2016/2/1\n",
       "8           692  16-25岁    2           2    2016/2/1\n",
       "9           819  26-35岁    2           3    2016/2/2\n",
       "10          861  36-45岁    2           3    2016/2/2\n",
       "11         1204      -1    2           1    2016/2/7\n",
       "12         1331      -1    2           1    2016/2/8\n",
       "13         1334  26-35岁    2           2    2016/2/8\n",
       "14         1394  36-45岁    2           2    2016/2/9\n",
       "15         1422  26-35岁    2           3   2016/2/10\n",
       "16         1442      -1    0           5   2010/8/16\n",
       "17         1598      -1    2           1   2016/2/12\n",
       "18         1665  36-45岁    2           2   2016/2/13\n",
       "19         1847      -1    2           1   2016/2/14\n",
       "20         1892      -1    2           1   2016/2/14\n",
       "21         1988  16-25岁    1           3   2016/2/15\n",
       "22         2002  26-35岁    0           4   2013/4/23\n",
       "23         2048  26-35岁    2           4   2016/2/16\n",
       "24         2072  36-45岁    0           3   2016/2/16\n",
       "25         2078  36-45岁    2           2   2016/2/16\n",
       "26         2079      -1    2           1   2016/2/16\n",
       "27         2189  26-35岁    2           3   2016/2/17\n",
       "28         2231  26-35岁    0           5   2013/4/24\n",
       "29         2276  36-45岁    1           5   2010/8/17\n",
       "...         ...     ...  ...         ...         ...\n",
       "103586    84620  36-45岁    2           4   2015/7/20\n",
       "103587    84824  36-45岁    0           4   2008/9/14\n",
       "103588    85091  36-45岁    0           5  2006/10/27\n",
       "103589    85991  26-35岁    0           5   2010/5/31\n",
       "103590    86920  36-45岁    2           3   2015/8/18\n",
       "103591    87235  26-35岁    0           4    2010/6/6\n",
       "103592    91374      -1    2           3   2015/10/8\n",
       "103593    93721  36-45岁    0           5   2013/1/25\n",
       "103594    94327  36-45岁    0           4   2013/1/29\n",
       "103595    94946  26-35岁    2           5   2015/11/7\n",
       "103596    95232  16-25岁    2           4   2015/11/9\n",
       "103597    95586  16-25岁    2           4   2013/2/10\n",
       "103598    95634  36-45岁    2           3  2015/11/10\n",
       "103599    95762  36-45岁    0           5    2010/7/8\n",
       "103600    96822      -1    2           3  2015/11/14\n",
       "103601    97028  26-35岁    2           5   2013/2/26\n",
       "103602    98058  36-45岁    0           3    2013/3/4\n",
       "103603    98661  36-45岁    0           5   2010/7/21\n",
       "103604   100620  26-35岁    2           3  2015/12/26\n",
       "103605   100745  36-45岁    0           4  2015/12/27\n",
       "103606   101031  36-45岁    2           3  2015/12/31\n",
       "103607   101033  36-45岁    2           3  2015/12/31\n",
       "103608   101193      -1    2           4    2016/1/2\n",
       "103609   101515  26-35岁    0           5   2013/3/28\n",
       "103610   101654  26-35岁    2           2    2016/1/6\n",
       "103611   101903  26-35岁    2           4    2016/1/9\n",
       "103612   102078  36-45岁    2           4   2016/1/11\n",
       "103613   102573  36-45岁    0           4    2013/4/4\n",
       "103614   103402  26-35岁    0           4    2013/4/9\n",
       "103615   103465  36-45岁    0           3   2016/1/24\n",
       "\n",
       "[103616 rows x 5 columns]"
      ]
     },
     "execution_count": 4,
     "metadata": {},
     "output_type": "execute_result"
    }
   ],
   "source": [
    "users = pd.read_csv(\"JData_User.csv\", encoding='gbk')\n",
    "users"
   ]
  },
  {
   "cell_type": "code",
   "execution_count": 7,
   "metadata": {
    "collapsed": true
   },
   "outputs": [],
   "source": [
    "user_index={users.user_id[i]:i for i in range(len(users))}"
   ]
  },
  {
   "cell_type": "code",
   "execution_count": 10,
   "metadata": {
    "collapsed": true
   },
   "outputs": [],
   "source": [
    "action_cate8 = pd.read_csv(\"data/train/action0304_cate8.csv\", parse_dates=[\"time\"])"
   ]
  },
  {
   "cell_type": "code",
   "execution_count": 33,
   "metadata": {
    "collapsed": true
   },
   "outputs": [],
   "source": [
    "buyer = action_cate8[action_cate8.type==4]"
   ]
  },
  {
   "cell_type": "code",
   "execution_count": 83,
   "metadata": {
    "collapsed": false
   },
   "outputs": [],
   "source": [
    "buy_action = pd.merge(buyer, action_cate8[action_cate8.type==5], on=['user_id', 'sku_id'])"
   ]
  },
  {
   "cell_type": "code",
   "execution_count": 73,
   "metadata": {
    "collapsed": false
   },
   "outputs": [],
   "source": [
    "buy_action['days_before'] = buy_action.apply(lambda x: (x.time_x - x.time_y).total_seconds()/3600/24, 1)"
   ]
  },
  {
   "cell_type": "code",
   "execution_count": 74,
   "metadata": {
    "collapsed": false
   },
   "outputs": [
    {
     "data": {
      "text/plain": [
       "<matplotlib.axes._subplots.AxesSubplot at 0x7fd89e7b8750>"
      ]
     },
     "execution_count": 74,
     "metadata": {},
     "output_type": "execute_result"
    },
    {
     "data": {
      "image/png": "[encoded data removed]",
      "text/plain": [
       "<matplotlib.figure.Figure at 0x7fd89e7e4350>"
      ]
     },
     "metadata": {},
     "output_type": "display_data"
    }
   ],
   "source": [
    "sns.distplot(buy_action.days_before, kde=False)"
   ]
  },
  {
   "cell_type": "code",
   "execution_count": 85,
   "metadata": {
    "collapsed": false
   },
   "outputs": [
    {
     "data": {
      "text/plain": [
       "<matplotlib.axes._subplots.AxesSubplot at 0x7fd89bf29e10>"
      ]
     },
     "execution_count": 85,
     "metadata": {},
     "output_type": "execute_result"
    },
    {
     "data": {
      "image/png": "[encoded data removed]",
      "text/plain": [
       "<matplotlib.figure.Figure at 0x7fd89bfeef90>"
      ]
     },
     "metadata": {},
     "output_type": "display_data"
    }
   ],
   "source": [
    "sns.distplot(buy_action[buy_action.time_y.dt.day<buy_action.time_x.dt.day].user_id.value_counts(),\n",
    "             kde=False)"
   ]
  },
  {
   "cell_type": "code",
   "execution_count": 25,
   "metadata": {
    "collapsed": false
   },
   "outputs": [
    {
     "name": "stderr",
     "output_type": "stream",
     "text": [
      "/root/anaconda2/lib/python2.7/site-packages/ipykernel/__main__.py:1: SettingWithCopyWarning: \n",
      "A value is trying to be set on a copy of a slice from a DataFrame.\n",
      "Try using .loc[row_indexer,col_indexer] = value instead\n",
      "\n",
      "See the caveats in the documentation: http://pandas.pydata.org/pandas-docs/stable/indexing.html#indexing-view-versus-copy\n",
      "  if __name__ == '__main__':\n"
     ]
    }
   ],
   "source": [
    "buyer['user_index'] = buyer['user_id'].map(user_index)"
   ]
  },
  {
   "cell_type": "code",
   "execution_count": 31,
   "metadata": {
    "collapsed": false,
    "scrolled": true
   },
   "outputs": [
    {
     "data": {
      "text/html": [
       "<div>\n",
       "<table border=\"1\" class=\"dataframe\">\n",
       "  <thead>\n",
       "    <tr style=\"text-align: right;\">\n",
       "      <th></th>\n",
       "      <th>user_id</th>\n",
       "      <th>user_index</th>\n",
       "      <th>time</th>\n",
       "    </tr>\n",
       "  </thead>\n",
       "  <tbody>\n",
       "    <tr>\n",
       "      <th>13600812</th>\n",
       "      <td>4996</td>\n",
       "      <td>93</td>\n",
       "      <td>2016-03-15 16:16:00</td>\n",
       "    </tr>\n",
       "    <tr>\n",
       "      <th>16448787</th>\n",
       "      <td>19654</td>\n",
       "      <td>313</td>\n",
       "      <td>2016-03-19 13:49:00</td>\n",
       "    </tr>\n",
       "    <tr>\n",
       "      <th>3298657</th>\n",
       "      <td>47392</td>\n",
       "      <td>714</td>\n",
       "      <td>2016-03-07 17:57:00</td>\n",
       "    </tr>\n",
       "    <tr>\n",
       "      <th>22368317</th>\n",
       "      <td>51169</td>\n",
       "      <td>764</td>\n",
       "      <td>2016-04-09 13:31:00</td>\n",
       "    </tr>\n",
       "    <tr>\n",
       "      <th>2064720</th>\n",
       "      <td>51536</td>\n",
       "      <td>769</td>\n",
       "      <td>2016-03-05 13:34:00</td>\n",
       "    </tr>\n",
       "    <tr>\n",
       "      <th>2029016</th>\n",
       "      <td>52141</td>\n",
       "      <td>780</td>\n",
       "      <td>2016-03-05 19:04:00</td>\n",
       "    </tr>\n",
       "    <tr>\n",
       "      <th>2134163</th>\n",
       "      <td>52141</td>\n",
       "      <td>780</td>\n",
       "      <td>2016-03-05 19:04:00</td>\n",
       "    </tr>\n",
       "    <tr>\n",
       "      <th>10864809</th>\n",
       "      <td>53092</td>\n",
       "      <td>796</td>\n",
       "      <td>2016-03-12 23:09:00</td>\n",
       "    </tr>\n",
       "    <tr>\n",
       "      <th>10835023</th>\n",
       "      <td>57982</td>\n",
       "      <td>865</td>\n",
       "      <td>2016-03-12 18:35:00</td>\n",
       "    </tr>\n",
       "    <tr>\n",
       "      <th>13425127</th>\n",
       "      <td>70743</td>\n",
       "      <td>1062</td>\n",
       "      <td>2016-03-15 00:04:00</td>\n",
       "    </tr>\n",
       "    <tr>\n",
       "      <th>4520216</th>\n",
       "      <td>74427</td>\n",
       "      <td>1118</td>\n",
       "      <td>2016-03-09 13:42:00</td>\n",
       "    </tr>\n",
       "    <tr>\n",
       "      <th>20951696</th>\n",
       "      <td>75552</td>\n",
       "      <td>1134</td>\n",
       "      <td>2016-04-07 14:37:00</td>\n",
       "    </tr>\n",
       "    <tr>\n",
       "      <th>15878054</th>\n",
       "      <td>83217</td>\n",
       "      <td>1257</td>\n",
       "      <td>2016-03-18 21:52:00</td>\n",
       "    </tr>\n",
       "    <tr>\n",
       "      <th>20971188</th>\n",
       "      <td>93397</td>\n",
       "      <td>1417</td>\n",
       "      <td>2016-04-07 18:56:00</td>\n",
       "    </tr>\n",
       "    <tr>\n",
       "      <th>9978871</th>\n",
       "      <td>97285</td>\n",
       "      <td>1498</td>\n",
       "      <td>2016-03-30 10:56:00</td>\n",
       "    </tr>\n",
       "    <tr>\n",
       "      <th>9925760</th>\n",
       "      <td>97285</td>\n",
       "      <td>1498</td>\n",
       "      <td>2016-03-30 10:56:00</td>\n",
       "    </tr>\n",
       "    <tr>\n",
       "      <th>3886904</th>\n",
       "      <td>3739</td>\n",
       "      <td>1657</td>\n",
       "      <td>2016-03-08 18:32:00</td>\n",
       "    </tr>\n",
       "    <tr>\n",
       "      <th>17924046</th>\n",
       "      <td>4029</td>\n",
       "      <td>1661</td>\n",
       "      <td>2016-04-01 21:10:00</td>\n",
       "    </tr>\n",
       "    <tr>\n",
       "      <th>10993955</th>\n",
       "      <td>4432</td>\n",
       "      <td>1668</td>\n",
       "      <td>2016-03-12 13:48:00</td>\n",
       "    </tr>\n",
       "    <tr>\n",
       "      <th>13467587</th>\n",
       "      <td>4923</td>\n",
       "      <td>1680</td>\n",
       "      <td>2016-03-15 08:23:00</td>\n",
       "    </tr>\n",
       "    <tr>\n",
       "      <th>3198406</th>\n",
       "      <td>8791</td>\n",
       "      <td>1737</td>\n",
       "      <td>2016-03-07 21:35:00</td>\n",
       "    </tr>\n",
       "    <tr>\n",
       "      <th>13123081</th>\n",
       "      <td>12861</td>\n",
       "      <td>1793</td>\n",
       "      <td>2016-03-15 23:57:00</td>\n",
       "    </tr>\n",
       "    <tr>\n",
       "      <th>13264864</th>\n",
       "      <td>12861</td>\n",
       "      <td>1793</td>\n",
       "      <td>2016-03-15 23:57:00</td>\n",
       "    </tr>\n",
       "    <tr>\n",
       "      <th>4013907</th>\n",
       "      <td>14852</td>\n",
       "      <td>1814</td>\n",
       "      <td>2016-03-08 23:41:00</td>\n",
       "    </tr>\n",
       "    <tr>\n",
       "      <th>4990084</th>\n",
       "      <td>24495</td>\n",
       "      <td>1930</td>\n",
       "      <td>2016-03-10 20:57:00</td>\n",
       "    </tr>\n",
       "    <tr>\n",
       "      <th>12284221</th>\n",
       "      <td>24853</td>\n",
       "      <td>1936</td>\n",
       "      <td>2016-03-14 20:53:00</td>\n",
       "    </tr>\n",
       "    <tr>\n",
       "      <th>17458882</th>\n",
       "      <td>29086</td>\n",
       "      <td>1984</td>\n",
       "      <td>2016-03-21 15:06:00</td>\n",
       "    </tr>\n",
       "    <tr>\n",
       "      <th>21732130</th>\n",
       "      <td>68617</td>\n",
       "      <td>2569</td>\n",
       "      <td>2016-04-08 23:46:00</td>\n",
       "    </tr>\n",
       "    <tr>\n",
       "      <th>21661674</th>\n",
       "      <td>68617</td>\n",
       "      <td>2569</td>\n",
       "      <td>2016-04-08 22:41:00</td>\n",
       "    </tr>\n",
       "    <tr>\n",
       "      <th>4998762</th>\n",
       "      <td>70515</td>\n",
       "      <td>2594</td>\n",
       "      <td>2016-03-10 21:55:00</td>\n",
       "    </tr>\n",
       "    <tr>\n",
       "      <th>...</th>\n",
       "      <td>...</td>\n",
       "      <td>...</td>\n",
       "      <td>...</td>\n",
       "    </tr>\n",
       "    <tr>\n",
       "      <th>21489513</th>\n",
       "      <td>82241</td>\n",
       "      <td>103579</td>\n",
       "      <td>2016-04-08 21:27:00</td>\n",
       "    </tr>\n",
       "    <tr>\n",
       "      <th>15952203</th>\n",
       "      <td>82850</td>\n",
       "      <td>103580</td>\n",
       "      <td>2016-03-18 07:33:00</td>\n",
       "    </tr>\n",
       "    <tr>\n",
       "      <th>2080151</th>\n",
       "      <td>83441</td>\n",
       "      <td>103581</td>\n",
       "      <td>2016-03-05 00:18:00</td>\n",
       "    </tr>\n",
       "    <tr>\n",
       "      <th>23702022</th>\n",
       "      <td>84201</td>\n",
       "      <td>103582</td>\n",
       "      <td>2016-04-11 11:53:00</td>\n",
       "    </tr>\n",
       "    <tr>\n",
       "      <th>21481913</th>\n",
       "      <td>84225</td>\n",
       "      <td>103583</td>\n",
       "      <td>2016-04-08 00:05:00</td>\n",
       "    </tr>\n",
       "    <tr>\n",
       "      <th>12325671</th>\n",
       "      <td>84372</td>\n",
       "      <td>103584</td>\n",
       "      <td>2016-03-14 07:53:00</td>\n",
       "    </tr>\n",
       "    <tr>\n",
       "      <th>20889244</th>\n",
       "      <td>84451</td>\n",
       "      <td>103585</td>\n",
       "      <td>2016-04-07 07:05:00</td>\n",
       "    </tr>\n",
       "    <tr>\n",
       "      <th>13557805</th>\n",
       "      <td>84620</td>\n",
       "      <td>103586</td>\n",
       "      <td>2016-03-15 22:35:00</td>\n",
       "    </tr>\n",
       "    <tr>\n",
       "      <th>3983714</th>\n",
       "      <td>84824</td>\n",
       "      <td>103587</td>\n",
       "      <td>2016-03-08 23:58:00</td>\n",
       "    </tr>\n",
       "    <tr>\n",
       "      <th>21728118</th>\n",
       "      <td>85091</td>\n",
       "      <td>103588</td>\n",
       "      <td>2016-04-08 21:52:00</td>\n",
       "    </tr>\n",
       "    <tr>\n",
       "      <th>1492360</th>\n",
       "      <td>85991</td>\n",
       "      <td>103589</td>\n",
       "      <td>2016-03-04 22:20:00</td>\n",
       "    </tr>\n",
       "    <tr>\n",
       "      <th>7530876</th>\n",
       "      <td>86920</td>\n",
       "      <td>103590</td>\n",
       "      <td>2016-03-25 12:42:00</td>\n",
       "    </tr>\n",
       "    <tr>\n",
       "      <th>12401375</th>\n",
       "      <td>91374</td>\n",
       "      <td>103592</td>\n",
       "      <td>2016-03-14 13:50:00</td>\n",
       "    </tr>\n",
       "    <tr>\n",
       "      <th>14727482</th>\n",
       "      <td>93721</td>\n",
       "      <td>103593</td>\n",
       "      <td>2016-03-16 16:55:00</td>\n",
       "    </tr>\n",
       "    <tr>\n",
       "      <th>23144674</th>\n",
       "      <td>94327</td>\n",
       "      <td>103594</td>\n",
       "      <td>2016-04-10 18:58:00</td>\n",
       "    </tr>\n",
       "    <tr>\n",
       "      <th>13277694</th>\n",
       "      <td>94946</td>\n",
       "      <td>103595</td>\n",
       "      <td>2016-03-15 00:37:00</td>\n",
       "    </tr>\n",
       "    <tr>\n",
       "      <th>19498098</th>\n",
       "      <td>95232</td>\n",
       "      <td>103596</td>\n",
       "      <td>2016-04-04 11:18:00</td>\n",
       "    </tr>\n",
       "    <tr>\n",
       "      <th>13439735</th>\n",
       "      <td>95634</td>\n",
       "      <td>103598</td>\n",
       "      <td>2016-03-15 23:52:00</td>\n",
       "    </tr>\n",
       "    <tr>\n",
       "      <th>23096478</th>\n",
       "      <td>95762</td>\n",
       "      <td>103599</td>\n",
       "      <td>2016-04-10 16:26:00</td>\n",
       "    </tr>\n",
       "    <tr>\n",
       "      <th>14811706</th>\n",
       "      <td>96822</td>\n",
       "      <td>103600</td>\n",
       "      <td>2016-03-16 21:26:00</td>\n",
       "    </tr>\n",
       "    <tr>\n",
       "      <th>9412387</th>\n",
       "      <td>98058</td>\n",
       "      <td>103602</td>\n",
       "      <td>2016-03-29 00:05:00</td>\n",
       "    </tr>\n",
       "    <tr>\n",
       "      <th>6253625</th>\n",
       "      <td>98661</td>\n",
       "      <td>103603</td>\n",
       "      <td>2016-03-22 11:47:00</td>\n",
       "    </tr>\n",
       "    <tr>\n",
       "      <th>19430361</th>\n",
       "      <td>100745</td>\n",
       "      <td>103605</td>\n",
       "      <td>2016-04-04 11:17:00</td>\n",
       "    </tr>\n",
       "    <tr>\n",
       "      <th>23123091</th>\n",
       "      <td>101033</td>\n",
       "      <td>103607</td>\n",
       "      <td>2016-04-10 21:52:00</td>\n",
       "    </tr>\n",
       "    <tr>\n",
       "      <th>18294402</th>\n",
       "      <td>101193</td>\n",
       "      <td>103608</td>\n",
       "      <td>2016-04-02 20:14:00</td>\n",
       "    </tr>\n",
       "    <tr>\n",
       "      <th>21004519</th>\n",
       "      <td>101515</td>\n",
       "      <td>103609</td>\n",
       "      <td>2016-04-07 15:18:00</td>\n",
       "    </tr>\n",
       "    <tr>\n",
       "      <th>5643355</th>\n",
       "      <td>101903</td>\n",
       "      <td>103611</td>\n",
       "      <td>2016-03-11 06:50:00</td>\n",
       "    </tr>\n",
       "    <tr>\n",
       "      <th>3960854</th>\n",
       "      <td>102078</td>\n",
       "      <td>103612</td>\n",
       "      <td>2016-03-08 09:13:00</td>\n",
       "    </tr>\n",
       "    <tr>\n",
       "      <th>654815</th>\n",
       "      <td>102573</td>\n",
       "      <td>103613</td>\n",
       "      <td>2016-03-02 18:58:00</td>\n",
       "    </tr>\n",
       "    <tr>\n",
       "      <th>1522491</th>\n",
       "      <td>103402</td>\n",
       "      <td>103614</td>\n",
       "      <td>2016-03-04 14:02:00</td>\n",
       "    </tr>\n",
       "  </tbody>\n",
       "</table>\n",
       "<p>9853 rows × 3 columns</p>\n",
       "</div>"
      ],
      "text/plain": [
       "          user_id  user_index                time\n",
       "13600812     4996          93 2016-03-15 16:16:00\n",
       "16448787    19654         313 2016-03-19 13:49:00\n",
       "3298657     47392         714 2016-03-07 17:57:00\n",
       "22368317    51169         764 2016-04-09 13:31:00\n",
       "2064720     51536         769 2016-03-05 13:34:00\n",
       "2029016     52141         780 2016-03-05 19:04:00\n",
       "2134163     52141         780 2016-03-05 19:04:00\n",
       "10864809    53092         796 2016-03-12 23:09:00\n",
       "10835023    57982         865 2016-03-12 18:35:00\n",
       "13425127    70743        1062 2016-03-15 00:04:00\n",
       "4520216     74427        1118 2016-03-09 13:42:00\n",
       "20951696    75552        1134 2016-04-07 14:37:00\n",
       "15878054    83217        1257 2016-03-18 21:52:00\n",
       "20971188    93397        1417 2016-04-07 18:56:00\n",
       "9978871     97285        1498 2016-03-30 10:56:00\n",
       "9925760     97285        1498 2016-03-30 10:56:00\n",
       "3886904      3739        1657 2016-03-08 18:32:00\n",
       "17924046     4029        1661 2016-04-01 21:10:00\n",
       "10993955     4432        1668 2016-03-12 13:48:00\n",
       "13467587     4923        1680 2016-03-15 08:23:00\n",
       "3198406      8791        1737 2016-03-07 21:35:00\n",
       "13123081    12861        1793 2016-03-15 23:57:00\n",
       "13264864    12861        1793 2016-03-15 23:57:00\n",
       "4013907     14852        1814 2016-03-08 23:41:00\n",
       "4990084     24495        1930 2016-03-10 20:57:00\n",
       "12284221    24853        1936 2016-03-14 20:53:00\n",
       "17458882    29086        1984 2016-03-21 15:06:00\n",
       "21732130    68617        2569 2016-04-08 23:46:00\n",
       "21661674    68617        2569 2016-04-08 22:41:00\n",
       "4998762     70515        2594 2016-03-10 21:55:00\n",
       "...           ...         ...                 ...\n",
       "21489513    82241      103579 2016-04-08 21:27:00\n",
       "15952203    82850      103580 2016-03-18 07:33:00\n",
       "2080151     83441      103581 2016-03-05 00:18:00\n",
       "23702022    84201      103582 2016-04-11 11:53:00\n",
       "21481913    84225      103583 2016-04-08 00:05:00\n",
       "12325671    84372      103584 2016-03-14 07:53:00\n",
       "20889244    84451      103585 2016-04-07 07:05:00\n",
       "13557805    84620      103586 2016-03-15 22:35:00\n",
       "3983714     84824      103587 2016-03-08 23:58:00\n",
       "21728118    85091      103588 2016-04-08 21:52:00\n",
       "1492360     85991      103589 2016-03-04 22:20:00\n",
       "7530876     86920      103590 2016-03-25 12:42:00\n",
       "12401375    91374      103592 2016-03-14 13:50:00\n",
       "14727482    93721      103593 2016-03-16 16:55:00\n",
       "23144674    94327      103594 2016-04-10 18:58:00\n",
       "13277694    94946      103595 2016-03-15 00:37:00\n",
       "19498098    95232      103596 2016-04-04 11:18:00\n",
       "13439735    95634      103598 2016-03-15 23:52:00\n",
       "23096478    95762      103599 2016-04-10 16:26:00\n",
       "14811706    96822      103600 2016-03-16 21:26:00\n",
       "9412387     98058      103602 2016-03-29 00:05:00\n",
       "6253625     98661      103603 2016-03-22 11:47:00\n",
       "19430361   100745      103605 2016-04-04 11:17:00\n",
       "23123091   101033      103607 2016-04-10 21:52:00\n",
       "18294402   101193      103608 2016-04-02 20:14:00\n",
       "21004519   101515      103609 2016-04-07 15:18:00\n",
       "5643355    101903      103611 2016-03-11 06:50:00\n",
       "3960854    102078      103612 2016-03-08 09:13:00\n",
       "654815     102573      103613 2016-03-02 18:58:00\n",
       "1522491    103402      103614 2016-03-04 14:02:00\n",
       "\n",
       "[9853 rows x 3 columns]"
      ]
     },
     "execution_count": 31,
     "metadata": {},
     "output_type": "execute_result"
    }
   ],
   "source": [
    "buyer[['user_id', 'user_index', 'time']].sort_values('user_index')"
   ]
  },
  {
   "cell_type": "code",
   "execution_count": 236,
   "metadata": {
    "collapsed": true
   },
   "outputs": [],
   "source": [
    "train04['window_end'] = train04.apply(lambda x: \\\n",
    "            datetime.datetime.strptime(x.time_x.strftime(\"%Y%m%d\"), \"%Y%m%d\"), 1)"
   ]
  },
  {
   "cell_type": "code",
   "execution_count": 237,
   "metadata": {
    "collapsed": true
   },
   "outputs": [],
   "source": [
    "train04['window_start'] = train04.apply(lambda x: \\\n",
    "            datetime.datetime.strptime((x.time_x - datetime.timedelta(days=10)).strftime(\"%Y%m%d\"), \"%Y%m%d\"), 1)"
   ]
  },
  {
   "cell_type": "code",
   "execution_count": 239,
   "metadata": {
    "collapsed": false
   },
   "outputs": [],
   "source": [
    "train04[train04.time_y.between(train04.window_start, train04.window_end)]\\\n",
    "    [['user_id', 'sku_id_x', 'sku_id_y', 'time_x', 'time_y', 'model_id_y', 'type_y', 'cate_y', 'brand_y']]\\\n",
    "                        .to_csv(\"data/train/positive04.csv\",\n",
    "                                index=False, encoding='gbk')"
   ]
  },
  {
   "cell_type": "code",
   "execution_count": null,
   "metadata": {
    "collapsed": false
   },
   "outputs": [],
   "source": [
    "train03[(train03.time_x.dt.day > train03.time_y.dt.day)\\\n",
    "        &(train03.time_y.dt.day > (train03.time_x.dt.day - 10))][['user_id', 'sku_id_x', 'sku_id_y', 'time_x', 'time_y', 'model_id_y', 'type_y', 'cate_y', 'brand_y']]\\\n",
    "                        .to_csv(\"data/train/positive03.csv\",\n",
    "                                index=False, encoding='gbk')"
   ]
  },
  {
   "cell_type": "code",
   "execution_count": null,
   "metadata": {
    "collapsed": false,
    "scrolled": true
   },
   "outputs": [],
   "source": [
    "plt.figure()\n",
    "g = sns.countplot(x=\"cate\", hue=\"sex\", data=action_sample_complete[(action_sample_complete.type==4)])\n",
    "# g.set_xticklabels(['M', 'F', 'Secret'])"
   ]
  },
  {
   "cell_type": "code",
   "execution_count": null,
   "metadata": {
    "collapsed": false,
    "scrolled": true
   },
   "outputs": [],
   "source": [
    "sns.countplot(\"age\", hue=\"cate\", orient='h', data=action_sample_complete)"
   ]
  },
  {
   "cell_type": "code",
   "execution_count": null,
   "metadata": {
    "collapsed": false,
    "scrolled": true
   },
   "outputs": [],
   "source": [
    "sns.factorplot(\"sex\", kind=\"count\", data=users)"
   ]
  },
  {
   "cell_type": "code",
   "execution_count": null,
   "metadata": {
    "collapsed": false,
    "scrolled": true
   },
   "outputs": [],
   "source": [
    "sns.factorplot(x=\"cate\", hue=\"type\", kind=\"count\", data=action_sample)"
   ]
  },
  {
   "cell_type": "code",
   "execution_count": null,
   "metadata": {
    "collapsed": false,
    "scrolled": true
   },
   "outputs": [],
   "source": [
    "action_sample_complete.set_index('time', inplace=True)"
   ]
  },
  {
   "cell_type": "code",
   "execution_count": null,
   "metadata": {
    "collapsed": false,
    "scrolled": true
   },
   "outputs": [],
   "source": [
    "cate8 = action_sample_complete[action_sample_complete.cate==8].groupby('type').resample('D', how='count')"
   ]
  },
  {
   "cell_type": "code",
   "execution_count": null,
   "metadata": {
    "collapsed": true,
    "scrolled": true
   },
   "outputs": [],
   "source": [
    "products = pd.read_csv(\"JData_Product.csv\")"
   ]
  },
  {
   "cell_type": "code",
   "execution_count": null,
   "metadata": {
    "collapsed": false,
    "scrolled": true
   },
   "outputs": [],
   "source": [
    "products.cate.value_counts()"
   ]
  },
  {
   "cell_type": "markdown",
   "metadata": {},
   "source": [
    "# Split Data"
   ]
  },
  {
   "cell_type": "code",
   "execution_count": null,
   "metadata": {
    "collapsed": false,
    "scrolled": true
   },
   "outputs": [],
   "source": [
    "action_cate8 = action_sample_complete[action_sample_complete.cate==8]"
   ]
  },
  {
   "cell_type": "code",
   "execution_count": null,
   "metadata": {
    "collapsed": false
   },
   "outputs": [],
   "source": [
    "action_cate8.to_csv(\"data/train/action_cate8.csv\", index=False, encoding='gbk')"
   ]
  },
  {
   "cell_type": "code",
   "execution_count": null,
   "metadata": {
    "collapsed": false,
    "scrolled": false
   },
   "outputs": [],
   "source": [
    "cart = action_cate8[action_cate8.type==2]\n",
    "cart"
   ]
  },
  {
   "cell_type": "code",
   "execution_count": null,
   "metadata": {
    "collapsed": false,
    "scrolled": false
   },
   "outputs": [],
   "source": [
    "buy = action_cate8[action_cate8.type==4]\n",
    "buy.head(2)"
   ]
  },
  {
   "cell_type": "code",
   "execution_count": null,
   "metadata": {
    "collapsed": false,
    "scrolled": true
   },
   "outputs": [],
   "source": [
    "len(buy.user_id.value_counts())"
   ]
  },
  {
   "cell_type": "code",
   "execution_count": null,
   "metadata": {
    "collapsed": false
   },
   "outputs": [],
   "source": [
    "from sklearn.model_selection import train_test_split"
   ]
  },
  {
   "cell_type": "code",
   "execution_count": null,
   "metadata": {
    "collapsed": false
   },
   "outputs": [],
   "source": [
    "train, cv = train_test_split(buy, test_size = 400, random_state=123)\n",
    "cv = pd.merge(cv, action_cate8, on = 'user_id', how='left')"
   ]
  },
  {
   "cell_type": "code",
   "execution_count": null,
   "metadata": {
    "collapsed": false
   },
   "outputs": [],
   "source": [
    "cv[cv.time_x > cv.time_y][['user_id', 'sku_id_x', 'sku_id_y', 'time_x', 'time_y', 'model_id_y', 'type_y', 'cate_y', 'brand_y',\n",
    "                        'age_y', 'sex_y', 'user_lv_cd_y', 'user_reg_dt_y']]\\\n",
    "                        .to_csv(\"data/cv/positive.csv\",\n",
    "                                index=False, encoding='gbk')"
   ]
  },
  {
   "cell_type": "code",
   "execution_count": null,
   "metadata": {
    "collapsed": true
   },
   "outputs": [],
   "source": [
    "train = pd.merge(train, action_cate8, on = 'user_id', how='left')\n",
    "train[train.time_x > train.time_y][['user_id', 'sku_id_x', 'sku_id_y', 'time_x', 'time_y', 'model_id_y', 'type_y', 'cate_y', 'brand_y',\n",
    "                        'age_y', 'sex_y', 'user_lv_cd_y', 'user_reg_dt_y']]\\\n",
    "                        .to_csv(\"data/train/positive.csv\",\n",
    "                                index=False, encoding='gbk')"
   ]
  },
  {
   "cell_type": "code",
   "execution_count": null,
   "metadata": {
    "collapsed": false,
    "scrolled": true
   },
   "outputs": [],
   "source": [
    "cv_users = buy.user_id.unique()[np.random.rand(len(buy.user_id.value_counts())) > 0.85]"
   ]
  },
  {
   "cell_type": "code",
   "execution_count": null,
   "metadata": {
    "collapsed": false,
    "scrolled": true
   },
   "outputs": [],
   "source": [
    "cv_users = np.concatenate((action_cate8.user_id.unique()[:3000], cv_users))"
   ]
  },
  {
   "cell_type": "code",
   "execution_count": null,
   "metadata": {
    "collapsed": false,
    "scrolled": true
   },
   "outputs": [],
   "source": [
    "action_cate8[action_cate8.user_id.isin(cv_users)].to_csv(\"data/cv/action_cate8.csv\", index=False, encoding='gbk')"
   ]
  },
  {
   "cell_type": "code",
   "execution_count": null,
   "metadata": {
    "collapsed": true,
    "scrolled": true
   },
   "outputs": [],
   "source": [
    "action_cate8[~action_cate8.user_id.isin(cv_users)].to_csv(\"data/train/action_cate8.csv\", index=False, encoding='gbk')"
   ]
  },
  {
   "cell_type": "code",
   "execution_count": null,
   "metadata": {
    "collapsed": true,
    "scrolled": true
   },
   "outputs": [],
   "source": [
    "comment = pd.read_csv(\"JData_Comment.csv\")"
   ]
  },
  {
   "cell_type": "code",
   "execution_count": null,
   "metadata": {
    "collapsed": false,
    "scrolled": true
   },
   "outputs": [],
   "source": [
    "train = pd.read_csv(\"data/train/action_cate8.csv\", encoding='gbk', parse_dates=[\"time\"])"
   ]
  },
  {
   "cell_type": "code",
   "execution_count": null,
   "metadata": {
    "collapsed": true,
    "scrolled": true
   },
   "outputs": [],
   "source": [
    "train_buy = train[train.type==4]"
   ]
  },
  {
   "cell_type": "code",
   "execution_count": null,
   "metadata": {
    "collapsed": false,
    "scrolled": true
   },
   "outputs": [],
   "source": [
    "action_positive = pd.merge(train_buy, train, on = ['user_id', 'sku_id'])"
   ]
  },
  {
   "cell_type": "code",
   "execution_count": null,
   "metadata": {
    "collapsed": false,
    "scrolled": true
   },
   "outputs": [],
   "source": [
    "action_positive[['user_id', 'sku_id', 'time_y', 'model_id_y', 'type_y', 'cate_y', 'brand_y',\n",
    "                        'age_y', 'sex_y', 'user_lv_cd_y', 'user_reg_dt_y']]\\\n",
    "                        .to_csv(\"data/train/positive.csv\",\n",
    "                                index=False, encoding='gbk')"
   ]
  },
  {
   "cell_type": "code",
   "execution_count": null,
   "metadata": {
    "collapsed": false,
    "scrolled": true
   },
   "outputs": [],
   "source": [
    "action_positive"
   ]
  },
  {
   "cell_type": "code",
   "execution_count": null,
   "metadata": {
    "collapsed": false,
    "scrolled": true
   },
   "outputs": [],
   "source": [
    "action_sample_complete[(action_sample_complete.user_id==33682)&(action_sample_complete.sku_id==69209)]"
   ]
  },
  {
   "cell_type": "code",
   "execution_count": null,
   "metadata": {
    "collapsed": false,
    "scrolled": true
   },
   "outputs": [],
   "source": [
    "len(action_cate8[action_cate8.type==4].sku_id.value_counts())"
   ]
  },
  {
   "cell_type": "code",
   "execution_count": null,
   "metadata": {
    "collapsed": false
   },
   "outputs": [],
   "source": [
    "len(action_cate8.sku_id.value_counts())"
   ]
  },
  {
   "cell_type": "code",
   "execution_count": null,
   "metadata": {
    "collapsed": false,
    "scrolled": true
   },
   "outputs": [],
   "source": [
    "p_set = set(products.sku_id.value_counts().index)"
   ]
  },
  {
   "cell_type": "code",
   "execution_count": null,
   "metadata": {
    "collapsed": false
   },
   "outputs": [],
   "source": [
    "inter = set(products.sku_id.value_counts().index) & set((action_cate8[action_cate8.type==4].sku_id.value_counts().index))"
   ]
  },
  {
   "cell_type": "code",
   "execution_count": null,
   "metadata": {
    "collapsed": false
   },
   "outputs": [],
   "source": [
    "len(inter)"
   ]
  },
  {
   "cell_type": "code",
   "execution_count": null,
   "metadata": {
    "collapsed": true
   },
   "outputs": [],
   "source": [
    "action02 = pd.read_csv(\"JData_Action_201602.csv\")"
   ]
  },
  {
   "cell_type": "code",
   "execution_count": null,
   "metadata": {
    "collapsed": true
   },
   "outputs": [],
   "source": [
    "action02_cate8_buy = action02[(action02.cate==8)&(action02.type==4)]"
   ]
  },
  {
   "cell_type": "code",
   "execution_count": null,
   "metadata": {
    "collapsed": false
   },
   "outputs": [],
   "source": [
    "len(set(action02_cate8_buy.sku_id.value_counts().index) & p_set)"
   ]
  },
  {
   "cell_type": "code",
   "execution_count": null,
   "metadata": {
    "collapsed": false
   },
   "outputs": [],
   "source": [
    "len(set(action02_cate8_buy.sku_id.value_counts().index) & set((action_cate8[action_cate8.type==4].sku_id.value_counts().index)))"
   ]
  },
  {
   "cell_type": "code",
   "execution_count": null,
   "metadata": {
    "collapsed": true
   },
   "outputs": [],
   "source": [
    "action03 = pd.read_csv(\"JData_Action_201603.csv\")"
   ]
  },
  {
   "cell_type": "code",
   "execution_count": null,
   "metadata": {
    "collapsed": true
   },
   "outputs": [],
   "source": [
    "action03_cate8_buy = action03[(action03.cate==8)&(action03.type==4)]"
   ]
  },
  {
   "cell_type": "code",
   "execution_count": 2,
   "metadata": {
    "collapsed": false
   },
   "outputs": [],
   "source": [
    "import pandas as pd\n",
    "negtive = pd.read_csv(\"data/train/negtive.csv\", parse_dates=[\"time_x\", \"time_y\"], header=0, names=['user_id', 'sku_id_x', 'sku_id_y', 'time_x', 'time_y', 'model_id_y', 'type_y', 'cate_y', 'brand_y'])"
   ]
  },
  {
   "cell_type": "code",
   "execution_count": null,
   "metadata": {
    "collapsed": true
   },
   "outputs": [],
   "source": []
  }
 ],
 "metadata": {
  "kernelspec": {
   "display_name": "Python 2",
   "language": "python",
   "name": "python2"
  },
  "language_info": {
   "codemirror_mode": {
    "name": "ipython",
    "version": 2
   },
   "file_extension": ".py",
   "mimetype": "text/x-python",
   "name": "python",
   "nbconvert_exporter": "python",
   "pygments_lexer": "ipython2",
   "version": "2.7.13"
  }
 },
 "nbformat": 4,
 "nbformat_minor": 2
}
