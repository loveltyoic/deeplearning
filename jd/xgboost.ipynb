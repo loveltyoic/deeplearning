{
 "cells": [
  {
   "cell_type": "code",
   "execution_count": 1,
   "metadata": {
    "collapsed": false
   },
   "outputs": [
    {
     "name": "stderr",
     "output_type": "stream",
     "text": [
      "/root/anaconda2/lib/python2.7/site-packages/sklearn/cross_validation.py:44: DeprecationWarning: This module was deprecated in version 0.18 in favor of the model_selection module into which all the refactored classes and functions are moved. Also note that the interface of the new CV iterators are different from that of this module. This module will be removed in 0.20.\n",
      "  \"This module will be removed in 0.20.\", DeprecationWarning)\n",
      "Using Theano backend.\n"
     ]
    }
   ],
   "source": [
    "import xgboost as xgb\n",
    "import pandas as pd\n",
    "import matplotlib.pyplot as plt\n",
    "%matplotlib inline\n",
    "import seaborn as sns\n",
    "sns.set(rc={\"figure.figsize\": (20, 10)})\n",
    "plt.rc('figure', figsize=(20, 10))\n",
    "import numpy as np\n",
    "import utils;reload(utils)\n",
    "from utils import *\n",
    "from keras.layers import Merge, Permute\n",
    "import pdb\n",
    "from sklearn.model_selection import train_test_split\n",
    "from scipy.stats.mstats import rankdata"
   ]
  },
  {
   "cell_type": "code",
   "execution_count": 2,
   "metadata": {
    "collapsed": true
   },
   "outputs": [],
   "source": [
    "data_dir = 'data_new/'"
   ]
  },
  {
   "cell_type": "code",
   "execution_count": 3,
   "metadata": {
    "collapsed": false
   },
   "outputs": [],
   "source": [
    "buy_cnn2d_trn = load_array(data_dir+'buy_cnn2d_trn')\n",
    "buy_cnn2d_trn_label = load_array(data_dir+'buy_cnn2d_trn_label')\n",
    "buy_cnn2d_cv = load_array(data_dir+'buy_cnn2d_cv')\n",
    "buy_cnn2d_cv_label = load_array(data_dir+'buy_cnn2d_cv_label')"
   ]
  },
  {
   "cell_type": "code",
   "execution_count": 4,
   "metadata": {
    "collapsed": false,
    "scrolled": true
   },
   "outputs": [],
   "source": [
    "user_feature = utils.get_basic_user_feat(data_dir)\n",
    "\n",
    "user_feature_dict = {}\n",
    "for row in user_feature.values:\n",
    "    user_feature_dict[row[0]] = row[1:]\n"
   ]
  },
  {
   "cell_type": "code",
   "execution_count": 5,
   "metadata": {
    "collapsed": false
   },
   "outputs": [],
   "source": [
    "users = load_array(data_dir+'users')"
   ]
  },
  {
   "cell_type": "code",
   "execution_count": 6,
   "metadata": {
    "collapsed": false
   },
   "outputs": [],
   "source": [
    "items = load_array(data_dir+'products')"
   ]
  },
  {
   "cell_type": "code",
   "execution_count": 7,
   "metadata": {
    "collapsed": false
   },
   "outputs": [],
   "source": [
    "buy_user_feat_trn = np.array([user_feature_dict[users[int(uidx)]] for uidx in buy_cnn2d_trn[:, 0, 0, 0]])\n",
    "buy_user_feat_cv = np.array([user_feature_dict[users[int(uidx)]] for uidx in buy_cnn2d_cv[:, 0, 0, 0]])"
   ]
  },
  {
   "cell_type": "code",
   "execution_count": 8,
   "metadata": {
    "collapsed": true
   },
   "outputs": [],
   "source": [
    "cv_neg = buy_cnn2d_cv[buy_cnn2d_cv_label[:, 1] == 0]\n",
    "# cv_pos_unused, cv_pos = train_test_split(buy_cnn2d_cv[buy_cnn2d_cv_label[:, 1] == 1], test_size=len(cv_neg)/40)\n",
    "cv_pos = buy_cnn2d_cv[buy_cnn2d_cv_label[:, 1] == 1]\n",
    "buy_cnn2d_cv_imitate = np.vstack((cv_pos, cv_neg))\n",
    "buy_cnn2d_cv_imitate_label = np.vstack((np.ones((len(cv_pos), 2)), np.zeros((len(cv_neg), 2))))"
   ]
  },
  {
   "cell_type": "code",
   "execution_count": 9,
   "metadata": {
    "collapsed": true
   },
   "outputs": [],
   "source": [
    "buy_user_feat_cv_imitate = np.array([user_feature_dict[users[int(uidx)]] for uidx in buy_cnn2d_cv_imitate[:, 0, 0, 0]])"
   ]
  },
  {
   "cell_type": "code",
   "execution_count": 10,
   "metadata": {
    "collapsed": false
   },
   "outputs": [],
   "source": [
    "total_days = 10\n",
    "days = 10\n",
    "top_skus = 10\n",
    "filter_day = 2\n",
    "filter_sku = 2\n",
    "days_offset = total_days-days\n",
    "\n",
    "type_select = [1,2,3,5,6,7,8,9,10,11,12]\n",
    "type_select_map = range(2, buy_cnn2d_trn.shape[-1])#[i-1+2 for i in type_select]\n",
    "type_select_count = len(type_select_map)"
   ]
  },
  {
   "cell_type": "code",
   "execution_count": 11,
   "metadata": {
    "collapsed": true
   },
   "outputs": [],
   "source": [
    "trn = buy_cnn2d_trn[:, days_offset:, :top_skus, type_select_map]\n",
    "cv = buy_cnn2d_cv_imitate[:, days_offset:, :top_skus, type_select_map]"
   ]
  },
  {
   "cell_type": "code",
   "execution_count": 12,
   "metadata": {
    "collapsed": false
   },
   "outputs": [
    {
     "data": {
      "text/plain": [
       "array([[0, 0, 0, ..., 0, 0, 1],\n",
       "       [0, 0, 0, ..., 0, 0, 1],\n",
       "       [0, 0, 0, ..., 0, 0, 1],\n",
       "       ..., \n",
       "       [0, 0, 0, ..., 1, 0, 0],\n",
       "       [0, 0, 0, ..., 0, 1, 0],\n",
       "       [0, 0, 0, ..., 1, 0, 0]])"
      ]
     },
     "execution_count": 12,
     "metadata": {},
     "output_type": "execute_result"
    }
   ],
   "source": [
    "buy_user_feat_cv_imitate"
   ]
  },
  {
   "cell_type": "code",
   "execution_count": 13,
   "metadata": {
    "collapsed": false
   },
   "outputs": [],
   "source": [
    "dtrain = xgb.DMatrix(np.hstack((trn.reshape(trn.shape[0], -1), buy_user_feat_trn)), missing = -999.0, label= buy_cnn2d_trn_label[:, 1])\n",
    "dcv = xgb.DMatrix(np.hstack((cv.reshape(cv.shape[0], -1), buy_user_feat_cv_imitate)), missing= -999.0, label=buy_cnn2d_cv_imitate_label[:, 1])"
   ]
  },
  {
   "cell_type": "code",
   "execution_count": 40,
   "metadata": {
    "collapsed": false,
    "scrolled": true
   },
   "outputs": [
    {
     "name": "stdout",
     "output_type": "stream",
     "text": [
      "[0]\tval-auc:0.610181\ttrain-auc:0.628912\n",
      "[1]\tval-auc:0.616674\ttrain-auc:0.638452\n",
      "[2]\tval-auc:0.616674\ttrain-auc:0.638452\n",
      "[3]\tval-auc:0.616095\ttrain-auc:0.638517\n",
      "[4]\tval-auc:0.619657\ttrain-auc:0.642533\n",
      "[5]\tval-auc:0.619657\ttrain-auc:0.642533\n",
      "[6]\tval-auc:0.623\ttrain-auc:0.643785\n",
      "[7]\tval-auc:0.623\ttrain-auc:0.643785\n",
      "[8]\tval-auc:0.623\ttrain-auc:0.643785\n",
      "[9]\tval-auc:0.623\ttrain-auc:0.643785\n",
      "[10]\tval-auc:0.623\ttrain-auc:0.643785\n",
      "[11]\tval-auc:0.640171\ttrain-auc:0.6553\n",
      "[12]\tval-auc:0.641517\ttrain-auc:0.655881\n",
      "[13]\tval-auc:0.646783\ttrain-auc:0.662917\n",
      "[14]\tval-auc:0.646783\ttrain-auc:0.662917\n",
      "[15]\tval-auc:0.639727\ttrain-auc:0.664286\n",
      "[16]\tval-auc:0.639019\ttrain-auc:0.665651\n",
      "[17]\tval-auc:0.6354\ttrain-auc:0.665682\n",
      "[18]\tval-auc:0.637217\ttrain-auc:0.665457\n",
      "[19]\tval-auc:0.637671\ttrain-auc:0.665295\n",
      "[20]\tval-auc:0.636406\ttrain-auc:0.665759\n",
      "[21]\tval-auc:0.635002\ttrain-auc:0.666048\n",
      "[22]\tval-auc:0.635412\ttrain-auc:0.666026\n",
      "[23]\tval-auc:0.634914\ttrain-auc:0.666181\n",
      "[24]\tval-auc:0.635776\ttrain-auc:0.665992\n",
      "[25]\tval-auc:0.639634\ttrain-auc:0.679623\n",
      "[26]\tval-auc:0.639711\ttrain-auc:0.679495\n",
      "[27]\tval-auc:0.63742\ttrain-auc:0.67884\n",
      "[28]\tval-auc:0.640596\ttrain-auc:0.680068\n",
      "[29]\tval-auc:0.639817\ttrain-auc:0.680519\n",
      "[30]\tval-auc:0.64064\ttrain-auc:0.680565\n",
      "[31]\tval-auc:0.640706\ttrain-auc:0.680448\n",
      "[32]\tval-auc:0.640828\ttrain-auc:0.681213\n",
      "[33]\tval-auc:0.641881\ttrain-auc:0.686638\n",
      "[34]\tval-auc:0.641094\ttrain-auc:0.686434\n",
      "[35]\tval-auc:0.641591\ttrain-auc:0.686771\n",
      "[36]\tval-auc:0.643278\ttrain-auc:0.688828\n",
      "[37]\tval-auc:0.644604\ttrain-auc:0.69049\n",
      "[38]\tval-auc:0.643658\ttrain-auc:0.690143\n",
      "[39]\tval-auc:0.642879\ttrain-auc:0.690402\n",
      "[40]\tval-auc:0.644289\ttrain-auc:0.690518\n",
      "[41]\tval-auc:0.645276\ttrain-auc:0.690485\n",
      "[42]\tval-auc:0.646136\ttrain-auc:0.690874\n",
      "[43]\tval-auc:0.645443\ttrain-auc:0.691118\n",
      "[44]\tval-auc:0.646581\ttrain-auc:0.692633\n",
      "[45]\tval-auc:0.64774\ttrain-auc:0.692995\n",
      "[46]\tval-auc:0.650587\ttrain-auc:0.695581\n",
      "[47]\tval-auc:0.65032\ttrain-auc:0.695629\n",
      "[48]\tval-auc:0.65026\ttrain-auc:0.695436\n",
      "[49]\tval-auc:0.65188\ttrain-auc:0.695294\n",
      "[50]\tval-auc:0.651902\ttrain-auc:0.695467\n",
      "[51]\tval-auc:0.652404\ttrain-auc:0.696446\n",
      "[52]\tval-auc:0.652896\ttrain-auc:0.696785\n",
      "[53]\tval-auc:0.653906\ttrain-auc:0.697977\n",
      "[54]\tval-auc:0.65453\ttrain-auc:0.698975\n",
      "[55]\tval-auc:0.653645\ttrain-auc:0.699056\n",
      "[56]\tval-auc:0.654213\ttrain-auc:0.699706\n",
      "[57]\tval-auc:0.655988\ttrain-auc:0.700599\n",
      "[58]\tval-auc:0.657754\ttrain-auc:0.701153\n",
      "[59]\tval-auc:0.658438\ttrain-auc:0.701908\n",
      "[60]\tval-auc:0.658916\ttrain-auc:0.702706\n",
      "[61]\tval-auc:0.657619\ttrain-auc:0.702827\n",
      "[62]\tval-auc:0.658647\ttrain-auc:0.703225\n",
      "[63]\tval-auc:0.659225\ttrain-auc:0.703165\n",
      "[64]\tval-auc:0.65983\ttrain-auc:0.703037\n",
      "[65]\tval-auc:0.661486\ttrain-auc:0.705553\n",
      "[66]\tval-auc:0.661414\ttrain-auc:0.705708\n",
      "[67]\tval-auc:0.661532\ttrain-auc:0.705685\n",
      "[68]\tval-auc:0.662394\ttrain-auc:0.706129\n",
      "[69]\tval-auc:0.662556\ttrain-auc:0.706135\n",
      "[70]\tval-auc:0.662888\ttrain-auc:0.705893\n",
      "[71]\tval-auc:0.66306\ttrain-auc:0.705514\n",
      "[72]\tval-auc:0.663506\ttrain-auc:0.706066\n",
      "[73]\tval-auc:0.664223\ttrain-auc:0.706382\n",
      "[74]\tval-auc:0.664996\ttrain-auc:0.706561\n",
      "[75]\tval-auc:0.665458\ttrain-auc:0.707159\n",
      "[76]\tval-auc:0.665076\ttrain-auc:0.70703\n",
      "[77]\tval-auc:0.665546\ttrain-auc:0.707526\n",
      "[78]\tval-auc:0.666227\ttrain-auc:0.708229\n",
      "[79]\tval-auc:0.667583\ttrain-auc:0.710444\n",
      "[80]\tval-auc:0.669355\ttrain-auc:0.711131\n",
      "[81]\tval-auc:0.671982\ttrain-auc:0.711923\n",
      "[82]\tval-auc:0.671356\ttrain-auc:0.712027\n",
      "[83]\tval-auc:0.671231\ttrain-auc:0.711978\n",
      "[84]\tval-auc:0.670963\ttrain-auc:0.71201\n",
      "[85]\tval-auc:0.671122\ttrain-auc:0.711914\n",
      "[86]\tval-auc:0.671672\ttrain-auc:0.712232\n",
      "[87]\tval-auc:0.672274\ttrain-auc:0.712221\n",
      "[88]\tval-auc:0.671963\ttrain-auc:0.71222\n",
      "[89]\tval-auc:0.672667\ttrain-auc:0.71239\n",
      "[90]\tval-auc:0.672488\ttrain-auc:0.712281\n",
      "[91]\tval-auc:0.672084\ttrain-auc:0.712274\n",
      "[92]\tval-auc:0.672421\ttrain-auc:0.712294\n",
      "[93]\tval-auc:0.673113\ttrain-auc:0.71278\n",
      "[94]\tval-auc:0.672852\ttrain-auc:0.712843\n",
      "[95]\tval-auc:0.672856\ttrain-auc:0.712775\n",
      "[96]\tval-auc:0.673202\ttrain-auc:0.712991\n",
      "[97]\tval-auc:0.674002\ttrain-auc:0.713078\n",
      "[98]\tval-auc:0.674987\ttrain-auc:0.71353\n",
      "[99]\tval-auc:0.674274\ttrain-auc:0.713964\n",
      "[100]\tval-auc:0.674402\ttrain-auc:0.713873\n",
      "[101]\tval-auc:0.674326\ttrain-auc:0.713923\n",
      "[102]\tval-auc:0.674873\ttrain-auc:0.713931\n",
      "[103]\tval-auc:0.675289\ttrain-auc:0.714092\n",
      "[104]\tval-auc:0.675556\ttrain-auc:0.714248\n",
      "[105]\tval-auc:0.675899\ttrain-auc:0.7139\n",
      "[106]\tval-auc:0.67558\ttrain-auc:0.714128\n",
      "[107]\tval-auc:0.675269\ttrain-auc:0.714246\n",
      "[108]\tval-auc:0.675414\ttrain-auc:0.714339\n",
      "[109]\tval-auc:0.675067\ttrain-auc:0.714354\n",
      "[110]\tval-auc:0.675085\ttrain-auc:0.714421\n",
      "[111]\tval-auc:0.675481\ttrain-auc:0.714608\n",
      "[112]\tval-auc:0.676244\ttrain-auc:0.714617\n",
      "[113]\tval-auc:0.676709\ttrain-auc:0.715212\n",
      "[114]\tval-auc:0.677043\ttrain-auc:0.715361\n",
      "[115]\tval-auc:0.677424\ttrain-auc:0.715301\n",
      "[116]\tval-auc:0.677382\ttrain-auc:0.715114\n",
      "[117]\tval-auc:0.677123\ttrain-auc:0.714975\n",
      "[118]\tval-auc:0.677731\ttrain-auc:0.71486\n",
      "[119]\tval-auc:0.67831\ttrain-auc:0.715948\n",
      "[120]\tval-auc:0.680709\ttrain-auc:0.717147\n",
      "[121]\tval-auc:0.681245\ttrain-auc:0.717798\n",
      "[122]\tval-auc:0.681759\ttrain-auc:0.718467\n",
      "[123]\tval-auc:0.68248\ttrain-auc:0.718691\n",
      "[124]\tval-auc:0.682956\ttrain-auc:0.718734\n",
      "[125]\tval-auc:0.683291\ttrain-auc:0.718657\n",
      "[126]\tval-auc:0.6834\ttrain-auc:0.71874\n",
      "[127]\tval-auc:0.683752\ttrain-auc:0.718912\n",
      "[128]\tval-auc:0.683629\ttrain-auc:0.718892\n",
      "[129]\tval-auc:0.68411\ttrain-auc:0.718968\n",
      "[130]\tval-auc:0.684628\ttrain-auc:0.719595\n",
      "[131]\tval-auc:0.68452\ttrain-auc:0.719528\n",
      "[132]\tval-auc:0.685293\ttrain-auc:0.72005\n",
      "[133]\tval-auc:0.685637\ttrain-auc:0.720067\n",
      "[134]\tval-auc:0.685932\ttrain-auc:0.72047\n",
      "[135]\tval-auc:0.686245\ttrain-auc:0.720633\n",
      "[136]\tval-auc:0.686365\ttrain-auc:0.720586\n",
      "[137]\tval-auc:0.686639\ttrain-auc:0.720922\n",
      "[138]\tval-auc:0.686629\ttrain-auc:0.721236\n",
      "[139]\tval-auc:0.687312\ttrain-auc:0.721517\n",
      "[140]\tval-auc:0.687285\ttrain-auc:0.721833\n",
      "[141]\tval-auc:0.687575\ttrain-auc:0.721811\n",
      "[142]\tval-auc:0.687153\ttrain-auc:0.721858\n",
      "[143]\tval-auc:0.687014\ttrain-auc:0.722228\n",
      "[144]\tval-auc:0.687269\ttrain-auc:0.722362\n",
      "[145]\tval-auc:0.687554\ttrain-auc:0.722409\n",
      "[146]\tval-auc:0.688285\ttrain-auc:0.722656\n",
      "[147]\tval-auc:0.689075\ttrain-auc:0.722881\n",
      "[148]\tval-auc:0.688298\ttrain-auc:0.723056\n",
      "[149]\tval-auc:0.688158\ttrain-auc:0.722967\n",
      "[150]\tval-auc:0.688272\ttrain-auc:0.722955\n",
      "[151]\tval-auc:0.687916\ttrain-auc:0.723388\n",
      "[152]\tval-auc:0.687615\ttrain-auc:0.723381\n",
      "[153]\tval-auc:0.687759\ttrain-auc:0.723627\n",
      "[154]\tval-auc:0.687002\ttrain-auc:0.72387\n",
      "[155]\tval-auc:0.68704\ttrain-auc:0.723901\n",
      "[156]\tval-auc:0.68749\ttrain-auc:0.724067\n",
      "[157]\tval-auc:0.687439\ttrain-auc:0.724309\n",
      "[158]\tval-auc:0.687244\ttrain-auc:0.724247\n",
      "[159]\tval-auc:0.687218\ttrain-auc:0.72414\n",
      "[160]\tval-auc:0.687296\ttrain-auc:0.724146\n",
      "[161]\tval-auc:0.686447\ttrain-auc:0.724315\n",
      "[162]\tval-auc:0.68626\ttrain-auc:0.724301\n",
      "[163]\tval-auc:0.686764\ttrain-auc:0.724923\n",
      "[164]\tval-auc:0.687353\ttrain-auc:0.725424\n",
      "[165]\tval-auc:0.687044\ttrain-auc:0.725659\n",
      "[166]\tval-auc:0.687815\ttrain-auc:0.725866\n",
      "[167]\tval-auc:0.687856\ttrain-auc:0.725944\n",
      "[168]\tval-auc:0.688108\ttrain-auc:0.726394\n",
      "[169]\tval-auc:0.687584\ttrain-auc:0.726462\n",
      "[170]\tval-auc:0.687185\ttrain-auc:0.726864\n",
      "[171]\tval-auc:0.687465\ttrain-auc:0.727018\n",
      "[172]\tval-auc:0.687853\ttrain-auc:0.726921\n",
      "[173]\tval-auc:0.68772\ttrain-auc:0.727051\n",
      "[174]\tval-auc:0.687701\ttrain-auc:0.727017\n",
      "[175]\tval-auc:0.688821\ttrain-auc:0.727302\n",
      "[176]\tval-auc:0.68842\ttrain-auc:0.727424\n",
      "[177]\tval-auc:0.688629\ttrain-auc:0.727667\n",
      "[178]\tval-auc:0.688963\ttrain-auc:0.727952\n",
      "[179]\tval-auc:0.690399\ttrain-auc:0.728363\n",
      "[180]\tval-auc:0.690387\ttrain-auc:0.728608\n",
      "[181]\tval-auc:0.6906\ttrain-auc:0.728892\n",
      "[182]\tval-auc:0.690946\ttrain-auc:0.729071\n",
      "[183]\tval-auc:0.69093\ttrain-auc:0.729223\n",
      "[184]\tval-auc:0.690024\ttrain-auc:0.72937\n",
      "[185]\tval-auc:0.690002\ttrain-auc:0.72938\n",
      "[186]\tval-auc:0.69003\ttrain-auc:0.729608\n",
      "[187]\tval-auc:0.689996\ttrain-auc:0.729901\n",
      "[188]\tval-auc:0.689586\ttrain-auc:0.729852\n",
      "[189]\tval-auc:0.689622\ttrain-auc:0.730017\n",
      "[190]\tval-auc:0.689918\ttrain-auc:0.730147\n",
      "[191]\tval-auc:0.69011\ttrain-auc:0.730124\n",
      "[192]\tval-auc:0.690257\ttrain-auc:0.730104\n",
      "[193]\tval-auc:0.689773\ttrain-auc:0.730214\n",
      "[194]\tval-auc:0.689431\ttrain-auc:0.730556\n",
      "[195]\tval-auc:0.689644\ttrain-auc:0.730791\n",
      "[196]\tval-auc:0.689772\ttrain-auc:0.730698\n",
      "[197]\tval-auc:0.688776\ttrain-auc:0.730745\n",
      "[198]\tval-auc:0.688941\ttrain-auc:0.730986\n",
      "[199]\tval-auc:0.689077\ttrain-auc:0.730975\n"
     ]
    }
   ],
   "source": [
    "watchlist = [ (dcv,'val'), (dtrain, 'train') ]\n",
    "\n",
    "param = {'nthread': 8,\n",
    "         'booster': 'gbtree',\n",
    "         \"objective\": \"binary:logistic\",\n",
    "         \"eval_metric\": \"auc\", \"eta\":  0.05,\n",
    "         \"max_depth\": 1,\n",
    "         \"min_child_weight\": 10,\n",
    "         \"gamma\": 0.1,\n",
    "         \"lambda\": 0.5,\n",
    "         \"alpha\": 5,\n",
    "         \"scale_pos_weight\": 0.5,\n",
    "         \"subsample\": 0.8,\n",
    "         'early_stopping_rounds':100}\n",
    "\n",
    "num_round = 200\n",
    "bst = xgb.train(param, dtrain, num_round, evals=watchlist)"
   ]
  },
  {
   "cell_type": "code",
   "execution_count": 36,
   "metadata": {
    "collapsed": true
   },
   "outputs": [],
   "source": [
    "def f1(p, r):\n",
    "    return 6 * p * r / (5 * r + p)\n",
    "def f2(p, r):\n",
    "    return 5 * p * r / (3 * p + 2 * r)"
   ]
  },
  {
   "cell_type": "code",
   "execution_count": 41,
   "metadata": {
    "collapsed": false
   },
   "outputs": [],
   "source": [
    "# buy_cnn2d_cv[:, :, :, 1:2], \n",
    "cv_pred = bst.predict(dcv)\n",
    "cv_pred_df = pd.DataFrame(cv_pred)\n",
    "# cv_pred_df = pd.DataFrame(np.argmax(cv_pred, 1))"
   ]
  },
  {
   "cell_type": "code",
   "execution_count": 44,
   "metadata": {
    "collapsed": false
   },
   "outputs": [
    {
     "data": {
      "text/plain": [
       "(0.14035087719298245, 0.07017543859649122, 0.12030075187969924)"
      ]
     },
     "execution_count": 44,
     "metadata": {},
     "output_type": "execute_result"
    }
   ],
   "source": [
    "cv_pred_df['user_id'] = [users[int(i)] for i in list(buy_cnn2d_cv_imitate[:, 0, 0, 0])]\n",
    "\n",
    "cv_pred_df['buy'] = cv_pred_df.apply(lambda x: 1 if x[0] > 0.75 else 0, 1)\n",
    "\n",
    "cv_pred_df['true'] = buy_cnn2d_cv_imitate_label[:, 1]\n",
    "# cv_pred_df['true'] = [targets[i] for i in cnn_cv_label[:, 0]]\n",
    "\n",
    "p = len(cv_pred_df[(cv_pred_df.buy == 1) & (cv_pred_df.true == 1)]) / float(len(cv_pred_df[cv_pred_df.buy==1]))\n",
    "r = len(cv_pred_df[(cv_pred_df.buy == 1) & (cv_pred_df.true == 1)]) / float(len(cv_pred_df[cv_pred_df.true==1]))\n",
    "# p = len(cv_pred_df[cv_pred_df.buy == cv_pred_df.true]) / float(len(cv_pred_df))\n",
    "# r = len(cv_pred_df[cv_pred_df.buy == cv_pred_df.true]) / float(len(cv_pred_df))\n",
    "p, r, f1(p, r)"
   ]
  },
  {
   "cell_type": "code",
   "execution_count": 21,
   "metadata": {
    "collapsed": false,
    "scrolled": true
   },
   "outputs": [],
   "source": [
    "test = load_array(data_dir+'test_cnn2d')"
   ]
  },
  {
   "cell_type": "code",
   "execution_count": 22,
   "metadata": {
    "collapsed": false
   },
   "outputs": [
    {
     "ename": "IndexError",
     "evalue": "index 53652 is out of bounds for axis 0 with size 50504",
     "output_type": "error",
     "traceback": [
      "\u001b[0;31m\u001b[0m",
      "\u001b[0;31mIndexError\u001b[0mTraceback (most recent call last)",
      "\u001b[0;32m<ipython-input-22-290b62f91277>\u001b[0m in \u001b[0;36m<module>\u001b[0;34m()\u001b[0m\n\u001b[0;32m----> 1\u001b[0;31m \u001b[0mtest_user_feat\u001b[0m \u001b[0;34m=\u001b[0m \u001b[0mnp\u001b[0m\u001b[0;34m.\u001b[0m\u001b[0marray\u001b[0m\u001b[0;34m(\u001b[0m\u001b[0;34m[\u001b[0m\u001b[0muser_feature_dict\u001b[0m\u001b[0;34m[\u001b[0m\u001b[0musers\u001b[0m\u001b[0;34m[\u001b[0m\u001b[0mint\u001b[0m\u001b[0;34m(\u001b[0m\u001b[0muidx\u001b[0m\u001b[0;34m)\u001b[0m\u001b[0;34m]\u001b[0m\u001b[0;34m]\u001b[0m \u001b[0;32mfor\u001b[0m \u001b[0muidx\u001b[0m \u001b[0;32min\u001b[0m \u001b[0mtest\u001b[0m\u001b[0;34m[\u001b[0m\u001b[0;34m:\u001b[0m\u001b[0;34m,\u001b[0m \u001b[0;36m0\u001b[0m\u001b[0;34m,\u001b[0m \u001b[0;36m0\u001b[0m\u001b[0;34m,\u001b[0m \u001b[0;36m0\u001b[0m\u001b[0;34m]\u001b[0m\u001b[0;34m]\u001b[0m\u001b[0;34m)\u001b[0m\u001b[0;34m\u001b[0m\u001b[0m\n\u001b[0m",
      "\u001b[0;31mIndexError\u001b[0m: index 53652 is out of bounds for axis 0 with size 50504"
     ]
    }
   ],
   "source": [
    "test_user_feat = np.array([user_feature_dict[users[int(uidx)]] for uidx in test[:, 0, 0, 0]])"
   ]
  },
  {
   "cell_type": "code",
   "execution_count": null,
   "metadata": {
    "collapsed": true
   },
   "outputs": [],
   "source": [
    "test_matrix = test[:, days_offset:, :top_skus, type_select_map]"
   ]
  },
  {
   "cell_type": "code",
   "execution_count": null,
   "metadata": {
    "collapsed": true
   },
   "outputs": [],
   "source": [
    "dtest = xgb.DMatrix(np.hstack((test_matrix.reshape(test_matrix.shape[0], -1), test_user_feat)), missing = -999.0)"
   ]
  },
  {
   "cell_type": "code",
   "execution_count": null,
   "metadata": {
    "collapsed": false
   },
   "outputs": [],
   "source": [
    "buy_predicted = bst.predict(dtest)"
   ]
  },
  {
   "cell_type": "code",
   "execution_count": null,
   "metadata": {
    "collapsed": false
   },
   "outputs": [],
   "source": [
    "test_pred_df = pd.DataFrame(buy_predicted)\n",
    "test_pred_df['user_id'] = [int(users[int(i)]) for i in list(test[:, 0, 0, 0])]\n",
    "test_pred_df['is_buy'] = test_pred_df.apply(lambda x: 1 if x[0] > 0.7 else 0, 1)\n",
    "test_pred_df['sku_id'] = 1\n",
    "test_pred_df.is_buy.value_counts()"
   ]
  },
  {
   "cell_type": "code",
   "execution_count": 43,
   "metadata": {
    "collapsed": false
   },
   "outputs": [
    {
     "name": "stdout",
     "output_type": "stream",
     "text": [
      "533\n"
     ]
    },
    {
     "data": {
      "text/html": [
       "<a href='xgb.csv' target='_blank'>xgb.csv</a><br>"
      ],
      "text/plain": [
       "/home/zhli7/notebook/jd/xgb.csv"
      ]
     },
     "execution_count": 43,
     "metadata": {},
     "output_type": "execute_result"
    }
   ],
   "source": [
    "result_df = test_pred_df[(test_pred_df.is_buy==1)&(test_pred_df.sku_id!=0)][['user_id', 'sku_id']]\n",
    "print len(result_df)\n",
    "result_df.to_csv(\"xgb.csv\", index=False)\n",
    "from IPython.display import FileLink\n",
    "FileLink('xgb.csv')"
   ]
  },
  {
   "cell_type": "code",
   "execution_count": 44,
   "metadata": {
    "collapsed": true
   },
   "outputs": [],
   "source": [
    "cnn = pd.read_csv('cnn2d.csv')"
   ]
  },
  {
   "cell_type": "code",
   "execution_count": 45,
   "metadata": {
    "collapsed": false
   },
   "outputs": [
    {
     "data": {
      "text/plain": [
       "71"
      ]
     },
     "execution_count": 45,
     "metadata": {},
     "output_type": "execute_result"
    }
   ],
   "source": [
    "ensemble = pd.merge(result_df, cnn, on='user_id', how='inner')\n",
    "len(ensemble)"
   ]
  },
  {
   "cell_type": "code",
   "execution_count": 46,
   "metadata": {
    "collapsed": false,
    "scrolled": true
   },
   "outputs": [],
   "source": [
    "ensemble['sku'] = ensemble.apply(lambda x: int(x['sku_id_x']) if math.isnan(x['sku_id_y']) else int(x['sku_id_y']), 1)"
   ]
  },
  {
   "cell_type": "code",
   "execution_count": 47,
   "metadata": {
    "collapsed": false
   },
   "outputs": [
    {
     "data": {
      "text/html": [
       "<a href='ensemble.csv' target='_blank'>ensemble.csv</a><br>"
      ],
      "text/plain": [
       "/home/zhli7/notebook/jd/ensemble.csv"
      ]
     },
     "execution_count": 47,
     "metadata": {},
     "output_type": "execute_result"
    }
   ],
   "source": [
    "ensemble[['user_id', 'sku']].to_csv(\"ensemble.csv\", index=False)\n",
    "from IPython.display import FileLink\n",
    "FileLink('ensemble.csv')"
   ]
  },
  {
   "cell_type": "code",
   "execution_count": null,
   "metadata": {
    "collapsed": true
   },
   "outputs": [],
   "source": []
  }
 ],
 "metadata": {
  "kernelspec": {
   "display_name": "Python 2",
   "language": "python",
   "name": "python2"
  },
  "language_info": {
   "codemirror_mode": {
    "name": "ipython",
    "version": 2
   },
   "file_extension": ".py",
   "mimetype": "text/x-python",
   "name": "python",
   "nbconvert_exporter": "python",
   "pygments_lexer": "ipython2",
   "version": "2.7.13"
  }
 },
 "nbformat": 4,
 "nbformat_minor": 2
}
