{
 "cells": [
  {
   "cell_type": "code",
   "execution_count": 1,
   "metadata": {
    "collapsed": true
   },
   "outputs": [],
   "source": [
    "import pandas as pd\n",
    "import numpy as np\n",
    "import json\n",
    "import random\n",
    "import math\n",
    "from math import radians, cos, sin, asin, sqrt"
   ]
  },
  {
   "cell_type": "code",
   "execution_count": null,
   "metadata": {
    "collapsed": true
   },
   "outputs": [],
   "source": [
    "def compute_dis(lon1, lat1, lon2, lat2):\n",
    "    lon1, lat1, lon2, lat2 = map(float, [lon1, lat1, lon2, lat2])\n",
    "    lon1, lat1, lon2, lat2 = map(radians, [lon1, lat1, lon2, lat2])\n",
    "    # haversine公式\n",
    "    dlon = lon2 - lon1\n",
    "    dlat = lat2 - lat1\n",
    "    a = sin(dlat/2)**2 + cos(lat1) * cos(lat2) * sin(dlon/2)**2\n",
    "    c = 2 * asin(sqrt(a))\n",
    "    r = 6371 # 地球平均半径，单位为公里\n",
    "    return c * r * 1000\n",
    "\n",
    "def dis_from_center(oc, dc, cc):\n",
    "    o_lng, o_lat = oc.split(',')\n",
    "    d_lng, d_lat = dc.split(',')\n",
    "    co_lng, co_lat, cd_lng, cd_lat = cc.split(',')\n",
    "    return compute_dis(o_lng, o_lat, co_lng, co_lat) + compute_dis(d_lng, d_lat, cd_lng, cd_lat)\n",
    "    \n",
    "def dis_diff(g):\n",
    "    result = []\n",
    "    for i in g.index:\n",
    "        oc, dc, cc = g.ix[i, ['oc', 'dc', 'cc']]\n",
    "        result.append(dis_from_center(oc, dc, cc))\n",
    "    \n",
    "    return [np.std(result), np.mean(result), np.max(result)]"
   ]
  },
  {
   "cell_type": "code",
   "execution_count": null,
   "metadata": {
    "collapsed": false
   },
   "outputs": [],
   "source": [
    "top = pd.read_csv(\"top_20170519_2.txt\", delimiter=\"~\", names=[\"o\", \"d\", \"oc\", \"dc\", \"dis\", \"uv\"])"
   ]
  },
  {
   "cell_type": "code",
   "execution_count": null,
   "metadata": {
    "collapsed": false
   },
   "outputs": [],
   "source": [
    "len(top)"
   ]
  },
  {
   "cell_type": "code",
   "execution_count": null,
   "metadata": {
    "collapsed": false,
    "scrolled": true
   },
   "outputs": [],
   "source": [
    "top.sort_values('uv', ascending=False)"
   ]
  },
  {
   "cell_type": "code",
   "execution_count": null,
   "metadata": {
    "collapsed": true
   },
   "outputs": [],
   "source": [
    "from scipy.cluster.vq import kmeans2\n",
    "lines = []\n",
    "for i in top.index:\n",
    "    oc = top.ix[i]['oc']\n",
    "    dc = top.ix[i]['dc']\n",
    "    uv = top.ix[i]['uv']\n",
    "    lines.append([float(c) for c in oc.split(',')] + [float(c) for c in dc.split(',')])\n",
    "lines = np.array(lines)"
   ]
  },
  {
   "cell_type": "markdown",
   "metadata": {},
   "source": [
    "## KMEANS"
   ]
  },
  {
   "cell_type": "code",
   "execution_count": 379,
   "metadata": {
    "collapsed": false
   },
   "outputs": [],
   "source": [
    "centers, labels = kmeans2(lines, 1000, iter=100, minit='points')"
   ]
  },
  {
   "cell_type": "code",
   "execution_count": 380,
   "metadata": {
    "collapsed": false
   },
   "outputs": [],
   "source": [
    "clustered = pd.concat((top, \n",
    "    pd.DataFrame(labels, columns=['cluster']), \n",
    "    pd.DataFrame(np.array([','.join([str(c) for c in list(centers[i])]) for i in labels]), \n",
    "                 columns=['cc'])), axis=1)"
   ]
  },
  {
   "cell_type": "markdown",
   "metadata": {},
   "source": [
    "## DBSCAN"
   ]
  },
  {
   "cell_type": "code",
   "execution_count": 92,
   "metadata": {
    "collapsed": true
   },
   "outputs": [],
   "source": [
    "from sklearn.cluster import DBSCAN\n",
    "from sklearn import metrics\n",
    "from sklearn.datasets.samples_generator import make_blobs\n",
    "from sklearn.preprocessing import StandardScaler"
   ]
  },
  {
   "cell_type": "code",
   "execution_count": 93,
   "metadata": {
    "collapsed": true
   },
   "outputs": [],
   "source": [
    "def dis_between_od(x, y):\n",
    "    return compute_dis(x[0], x[1], y[0], y[1]) + compute_dis(x[2], x[3], y[2], y[3])"
   ]
  },
  {
   "cell_type": "code",
   "execution_count": 94,
   "metadata": {
    "collapsed": false
   },
   "outputs": [],
   "source": [
    "db = DBSCAN(eps=1000, min_samples=2, metric=dis_between_od).fit(lines)\n",
    "core_samples_mask = np.zeros_like(db.labels_, dtype=bool)\n",
    "core_samples_mask[db.core_sample_indices_] = True\n",
    "labels = db.labels_"
   ]
  },
  {
   "cell_type": "code",
   "execution_count": 95,
   "metadata": {
    "collapsed": false
   },
   "outputs": [
    {
     "data": {
      "text/plain": [
       "(123, 331, 839)"
      ]
     },
     "execution_count": 95,
     "metadata": {},
     "output_type": "execute_result"
    }
   ],
   "source": [
    "n_clusters_ = len(set(labels)) - (1 if -1 in labels else 0)\n",
    "n_clusters_, np.sum(core_samples_mask), np.sum(labels==-1)"
   ]
  },
  {
   "cell_type": "code",
   "execution_count": 96,
   "metadata": {
    "collapsed": false
   },
   "outputs": [],
   "source": [
    "clustered = pd.concat((top, \n",
    "    pd.DataFrame(labels, columns=['cluster'])), axis=1)"
   ]
  },
  {
   "cell_type": "code",
   "execution_count": 97,
   "metadata": {
    "collapsed": false,
    "scrolled": true
   },
   "outputs": [],
   "source": [
    "def map_cluster(r):\n",
    "    return r['seq'] + n_clusters_ if r['cluster'] == -1 else r['cluster']\n",
    "clustered['seq'] = range(len(clustered))\n",
    "clustered['cluster'] = clustered.apply(map_cluster, axis=1)\n",
    "del clustered['seq']"
   ]
  },
  {
   "cell_type": "markdown",
   "metadata": {},
   "source": [
    "## 根据聚类结果进行统计"
   ]
  },
  {
   "cell_type": "code",
   "execution_count": 98,
   "metadata": {
    "collapsed": true
   },
   "outputs": [],
   "source": [
    "label_count_dict = dict(pd.DataFrame(labels)[0].value_counts())"
   ]
  },
  {
   "cell_type": "code",
   "execution_count": 99,
   "metadata": {
    "collapsed": false
   },
   "outputs": [],
   "source": [
    "clustered['cluster_count'] = clustered['cluster'].map(label_count_dict)"
   ]
  },
  {
   "cell_type": "code",
   "execution_count": 100,
   "metadata": {
    "collapsed": false
   },
   "outputs": [
    {
     "name": "stderr",
     "output_type": "stream",
     "text": [
      "/root/anaconda2/lib/python2.7/site-packages/ipykernel/__main__.py:2: FutureWarning: by argument to sort_index is deprecated, pls use .sort_values(by=...)\n",
      "  from ipykernel import kernelapp as app\n"
     ]
    }
   ],
   "source": [
    "def top_uv(df, n=1, column='uv'):\n",
    "    return df.sort_index(by=column)[-n:]\n",
    "cluster_top = clustered.groupby('cluster', group_keys=False).apply(top_uv)\n",
    "cluster_top['cc'] = cluster_top.oc + ',' + cluster_top.dc\n",
    "cluster_top = cluster_top[['cluster', 'o', 'd', 'cc']]"
   ]
  },
  {
   "cell_type": "code",
   "execution_count": 101,
   "metadata": {
    "collapsed": true
   },
   "outputs": [],
   "source": [
    "clustered = pd.merge(clustered, cluster_top, on = 'cluster')"
   ]
  },
  {
   "cell_type": "code",
   "execution_count": 102,
   "metadata": {
    "collapsed": false,
    "scrolled": true
   },
   "outputs": [],
   "source": [
    "cluster_stats = clustered.groupby('cluster', as_index=False)['uv'].agg(['mean', 'sum']).add_prefix('uv_')"
   ]
  },
  {
   "cell_type": "markdown",
   "metadata": {},
   "source": [
    "## 统计聚类内的距离"
   ]
  },
  {
   "cell_type": "code",
   "execution_count": 103,
   "metadata": {
    "collapsed": false,
    "scrolled": true
   },
   "outputs": [],
   "source": [
    "cluster_dis = clustered.groupby('cluster', group_keys=False).apply(lambda g: dis_diff(g))\n",
    "\n",
    "dis_stats = []\n",
    "for c in cluster_dis.index:\n",
    "    dis_stats.append(cluster_dis.ix[c] + [c])\n",
    "cluster_dis_stats = pd.DataFrame(dis_stats, columns=[\"dis_std\", \"dis_mean\", \"dis_max\", \"cluster\"])"
   ]
  },
  {
   "cell_type": "markdown",
   "metadata": {},
   "source": [
    "## join得到最终结果"
   ]
  },
  {
   "cell_type": "code",
   "execution_count": 104,
   "metadata": {
    "collapsed": false,
    "scrolled": true
   },
   "outputs": [],
   "source": [
    "complete = pd.merge(clustered, cluster_stats, left_on = 'cluster', right_index=True)\n",
    "complete = pd.merge(complete, cluster_dis_stats, on='cluster')\n",
    "# complete = pd.merge(complete, cluster_top, left_on='cluster', right_on='cluster')"
   ]
  },
  {
   "cell_type": "code",
   "execution_count": 105,
   "metadata": {
    "collapsed": false
   },
   "outputs": [
    {
     "data": {
      "text/html": [
       "<a href='cluster.csv' target='_blank'>cluster.csv</a><br>"
      ],
      "text/plain": [
       "/home/zhli7/bus/cluster.csv"
      ]
     },
     "execution_count": 105,
     "metadata": {},
     "output_type": "execute_result"
    }
   ],
   "source": [
    "complete.to_csv('cluster.csv', sep=\"\\t\", index=False)\n",
    "from IPython.display import FileLink\n",
    "FileLink('cluster.csv')"
   ]
  },
  {
   "cell_type": "markdown",
   "metadata": {},
   "source": [
    "## Top"
   ]
  },
  {
   "cell_type": "code",
   "execution_count": 106,
   "metadata": {
    "collapsed": false
   },
   "outputs": [
    {
     "name": "stderr",
     "output_type": "stream",
     "text": [
      "/root/anaconda2/lib/python2.7/site-packages/ipykernel/__main__.py:11: FutureWarning: by argument to sort_index is deprecated, pls use .sort_values(by=...)\n"
     ]
    }
   ],
   "source": [
    "result = []\n",
    "offset = 0\n",
    "top_count = 10\n",
    "top_clusters = complete.sort_values('uv_sum', ascending=False).cluster.unique()[offset:offset+top_count]\n",
    "color_map = dict(zip(top_clusters[:top_count], \n",
    "    ['rgba(' + str(int(random.random() * 255)) + ', ' + str(int(random.random() * 255)) + ', ' + str(int(random.random() * 255)) + ', 0.8)' for i in range(top_count)]))\n",
    "\n",
    "for l in top_clusters:\n",
    "#     count = np.sum(top.values[labels==l, 5])\n",
    "#     center = centers[l]\n",
    "    represent = complete[complete.cluster==l].sort_index(by='uv', ascending=False)[-1:]\n",
    "    count = complete[complete.cluster==l].uv.sum()\n",
    "    center = represent.oc.values[0].split(',') + represent.dc.values[0].split(',')\n",
    "    if count > 0:\n",
    "        result.append({\"geometry\":{\"type\":\"LineString\",\"coordinates\":\n",
    "                [list(center[0:2]), list(center[2:])]},\"count\":count,\n",
    "                      \"strokeStyle\": color_map[l]})"
   ]
  },
  {
   "cell_type": "code",
   "execution_count": 107,
   "metadata": {
    "collapsed": false
   },
   "outputs": [
    {
     "data": {
      "text/html": [
       "<a href='bus/line.js' target='_blank'>bus/line.js</a><br>"
      ],
      "text/plain": [
       "/home/zhli7/bus/bus/line.js"
      ]
     },
     "execution_count": 107,
     "metadata": {},
     "output_type": "execute_result"
    }
   ],
   "source": [
    "f = file('bus/line.js', 'w')\n",
    "f.write(\"var data=\\n\")\n",
    "f.write(json.dumps(result))\n",
    "f.close()\n",
    "\n",
    "from IPython.display import FileLink\n",
    "FileLink('bus/line.js')"
   ]
  },
  {
   "cell_type": "markdown",
   "metadata": {},
   "source": [
    "## Sample"
   ]
  },
  {
   "cell_type": "code",
   "execution_count": 108,
   "metadata": {
    "collapsed": false
   },
   "outputs": [],
   "source": [
    "result = []\n",
    "sample = clustered[clustered.cluster.isin(top_clusters[:top_count])]\n",
    "\n",
    "for i in sample.index:\n",
    "    label = sample.ix[i]['cluster']\n",
    "    color = color_map[label]\n",
    "    oc = sample.ix[i]['oc']\n",
    "    dc = sample.ix[i]['dc']\n",
    "    uv = sample.ix[i]['uv']\n",
    "    result.append({\"geometry\":{\"type\":\"LineString\",\"coordinates\":\n",
    "                [[float(c) for c in oc.split(',')], [float(c) for c in dc.split(',')]]},\n",
    "#                    \"count\":color,\n",
    "                   \"strokeStyle\": color})\n",
    "\n",
    "f = file('bus/line.js', 'w')\n",
    "f.write(\"var data=\\n\")\n",
    "f.write(json.dumps(result))\n",
    "f.close()"
   ]
  },
  {
   "cell_type": "code",
   "execution_count": null,
   "metadata": {
    "collapsed": true
   },
   "outputs": [],
   "source": []
  },
  {
   "cell_type": "code",
   "execution_count": null,
   "metadata": {
    "collapsed": true
   },
   "outputs": [],
   "source": []
  }
 ],
 "metadata": {
  "kernelspec": {
   "display_name": "Python 2",
   "language": "python",
   "name": "python2"
  },
  "language_info": {
   "codemirror_mode": {
    "name": "ipython",
    "version": 2
   },
   "file_extension": ".py",
   "mimetype": "text/x-python",
   "name": "python",
   "nbconvert_exporter": "python",
   "pygments_lexer": "ipython2",
   "version": "2.7.13"
  }
 },
 "nbformat": 4,
 "nbformat_minor": 2
}
