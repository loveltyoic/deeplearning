{
 "cells": [
  {
   "cell_type": "code",
   "execution_count": null,
   "metadata": {
    "collapsed": true
   },
   "outputs": [],
   "source": [
    "%matplotlib inline\n",
    "import numpy as np\n",
    "import matplotlib.pyplot as plt"
   ]
  },
  {
   "cell_type": "code",
   "execution_count": null,
   "metadata": {
    "collapsed": false
   },
   "outputs": [],
   "source": [
    "x = np.arange(0, np.pi*2, 2*np.pi/16)\n",
    "y = np.sin(x)\n",
    "plt.plot(x, y)"
   ]
  },
  {
   "cell_type": "code",
   "execution_count": null,
   "metadata": {
    "collapsed": false
   },
   "outputs": [],
   "source": [
    "np.fft.fft(y)/len(y)"
   ]
  },
  {
   "cell_type": "code",
   "execution_count": null,
   "metadata": {
    "collapsed": false
   },
   "outputs": [],
   "source": [
    "plt.plot(x, np.sin(x*16) + np.sin(x*16/15.0))"
   ]
  },
  {
   "cell_type": "code",
   "execution_count": 15,
   "metadata": {
    "collapsed": false
   },
   "outputs": [
    {
     "name": "stdout",
     "output_type": "stream",
     "text": [
      "[array([[ 0.36231668,  0.13735361],\n",
      "       [ 0.22315463,  0.21792339]]), array([[ 0.90849667,  0.23929468],\n",
      "       [ 0.76807802,  0.5314771 ]]), array([[ 0.13890595,  0.71564012],\n",
      "       [ 0.63576356,  0.67347266]]), array([[ 0.5770286 ,  0.68040782],\n",
      "       [ 0.85603648,  0.84760704]])]\n",
      "[[ 0.65314294 -0.23065269]\n",
      " [ 0.30429451  0.06435696]]\n"
     ]
    }
   ],
   "source": [
    "import numpy\n",
    "import theano.tensor as T\n",
    "from theano import function\n",
    "a = T.dmatrix('a')\n",
    "b = T.dmatrix('b')\n",
    "c = T.dmatrix('c')\n",
    "d = T.dmatrix('d')\n",
    "e = (a + b - c) * d\n",
    "f = function([a,b,c,d], e)\n",
    "\n",
    "v = [np.random.rand(2,2) for i in range(4)]\n",
    "print v\n",
    "print f(*v)\n"
   ]
  },
  {
   "cell_type": "code",
   "execution_count": null,
   "metadata": {
    "collapsed": true
   },
   "outputs": [],
   "source": []
  }
 ],
 "metadata": {
  "kernelspec": {
   "display_name": "Python 2",
   "language": "python",
   "name": "python2"
  },
  "language_info": {
   "codemirror_mode": {
    "name": "ipython",
    "version": 2
   },
   "file_extension": ".py",
   "mimetype": "text/x-python",
   "name": "python",
   "nbconvert_exporter": "python",
   "pygments_lexer": "ipython2",
   "version": "2.7.13"
  }
 },
 "nbformat": 4,
 "nbformat_minor": 2
}
