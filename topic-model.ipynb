{
 "cells": [
  {
   "cell_type": "code",
   "execution_count": 1,
   "metadata": {
    "collapsed": true
   },
   "outputs": [],
   "source": [
    "import pandas as pd\n",
    "dataset = pd.read_csv(\"/home/zhli7/datascience.csv\", encoding='gb18030')"
   ]
  },
  {
   "cell_type": "code",
   "execution_count": 2,
   "metadata": {
    "collapsed": false
   },
   "outputs": [
    {
     "data": {
      "text/html": [
       "<div>\n",
       "<table border=\"1\" class=\"dataframe\">\n",
       "  <thead>\n",
       "    <tr style=\"text-align: right;\">\n",
       "      <th></th>\n",
       "      <th>title</th>\n",
       "      <th>author</th>\n",
       "      <th>content</th>\n",
       "    </tr>\n",
       "  </thead>\n",
       "  <tbody>\n",
       "    <tr>\n",
       "      <th>0</th>\n",
       "      <td>大数据产业迎政策暖风 最新大数据概念股一览</td>\n",
       "      <td>财经热点扒客</td>\n",
       "      <td>大数据产业发展受到国家重视，而大数据已经上升为国家战略，未来发展前景很广阔。大数据产业“十三...</td>\n",
       "    </tr>\n",
       "    <tr>\n",
       "      <th>1</th>\n",
       "      <td>Google发布机器学习平台Tensorflow游乐场～带你一起玩神经网络！</td>\n",
       "      <td>硅谷周边</td>\n",
       "      <td>点击上方“硅谷周边”关注我，收到最新的文章哦！昨天，Google发布了Tensorflow游...</td>\n",
       "    </tr>\n",
       "    <tr>\n",
       "      <th>2</th>\n",
       "      <td>李克强：中国大数据和云计算产业是开放的</td>\n",
       "      <td>苏州高新区金融办</td>\n",
       "      <td>国务院总理李克强当地时间20日上午在纽约下榻饭店同美国经济、金融、智库、媒体等各界人士座谈，...</td>\n",
       "    </tr>\n",
       "    <tr>\n",
       "      <th>3</th>\n",
       "      <td>全峰集团持续挖掘大数据</td>\n",
       "      <td>快递物流网</td>\n",
       "      <td>2016年，全峰集团持续挖掘大数据、云计算、“互联网+”等前沿技术和物流快递的融合，并通过优...</td>\n",
       "    </tr>\n",
       "    <tr>\n",
       "      <th>4</th>\n",
       "      <td>第366期【微理工】贵州理工学院召开大数据分析与应用专题分享会</td>\n",
       "      <td>贵州理工学院</td>\n",
       "      <td>贵州理工学院召开大数据分析与应用专题分享会 借“创响中国”贵安站巡回接力活动暨2016贵安大...</td>\n",
       "    </tr>\n",
       "    <tr>\n",
       "      <th>5</th>\n",
       "      <td>数据分析基本思路及手法</td>\n",
       "      <td>一样的月光</td>\n",
       "      <td>来源：人人都是产品经理　　数据分析，是产品运营极具战略意义的一环;从宏观到微观分析，通过表层...</td>\n",
       "    </tr>\n",
       "    <tr>\n",
       "      <th>6</th>\n",
       "      <td>数据挖掘为什么要用R？</td>\n",
       "      <td>经管之家论坛</td>\n",
       "      <td>R，与其说是一门语言，不如说是一个软件。      从大数据的角度来看，什么样的数据最有价值...</td>\n",
       "    </tr>\n",
       "    <tr>\n",
       "      <th>7</th>\n",
       "      <td>免费上课了！ 今晚《数据大咖秀》直播第五期 | 用户体验中的数据挖掘</td>\n",
       "      <td>PPV课大数据</td>\n",
       "      <td>大嘴巴来了，想免费获取《大嘴巴漫谈数据挖掘》新书的，或者想和易老师学习数据挖掘的同学不要错过...</td>\n",
       "    </tr>\n",
       "    <tr>\n",
       "      <th>8</th>\n",
       "      <td>我国实物地质资料信息服务进入大数据时代</td>\n",
       "      <td>云南延发矿业</td>\n",
       "      <td>来源：中国矿业网      从中国地质调查局实物地质资料中心获悉，该中心与西安地质调查...</td>\n",
       "    </tr>\n",
       "    <tr>\n",
       "      <th>9</th>\n",
       "      <td>大数据与数据挖掘</td>\n",
       "      <td>航天惯性导航软件</td>\n",
       "      <td>互联网时代，大数据发展得如火如荼，数据和信息量以指数方式增加。人们对数据进行更高层次的分析，...</td>\n",
       "    </tr>\n",
       "  </tbody>\n",
       "</table>\n",
       "</div>"
      ],
      "text/plain": [
       "                                    title    author  \\\n",
       "0                   大数据产业迎政策暖风 最新大数据概念股一览    财经热点扒客   \n",
       "1  Google发布机器学习平台Tensorflow游乐场～带你一起玩神经网络！      硅谷周边   \n",
       "2                     李克强：中国大数据和云计算产业是开放的  苏州高新区金融办   \n",
       "3                             全峰集团持续挖掘大数据     快递物流网   \n",
       "4         第366期【微理工】贵州理工学院召开大数据分析与应用专题分享会    贵州理工学院   \n",
       "5                             数据分析基本思路及手法     一样的月光   \n",
       "6                             数据挖掘为什么要用R？    经管之家论坛   \n",
       "7      免费上课了！ 今晚《数据大咖秀》直播第五期 | 用户体验中的数据挖掘   PPV课大数据   \n",
       "8                     我国实物地质资料信息服务进入大数据时代    云南延发矿业   \n",
       "9                                大数据与数据挖掘  航天惯性导航软件   \n",
       "\n",
       "                                             content  \n",
       "0  大数据产业发展受到国家重视，而大数据已经上升为国家战略，未来发展前景很广阔。大数据产业“十三...  \n",
       "1  点击上方“硅谷周边”关注我，收到最新的文章哦！昨天，Google发布了Tensorflow游...  \n",
       "2  国务院总理李克强当地时间20日上午在纽约下榻饭店同美国经济、金融、智库、媒体等各界人士座谈，...  \n",
       "3  2016年，全峰集团持续挖掘大数据、云计算、“互联网+”等前沿技术和物流快递的融合，并通过优...  \n",
       "4  贵州理工学院召开大数据分析与应用专题分享会 借“创响中国”贵安站巡回接力活动暨2016贵安大...  \n",
       "5  来源：人人都是产品经理　　数据分析，是产品运营极具战略意义的一环;从宏观到微观分析，通过表层...  \n",
       "6  R，与其说是一门语言，不如说是一个软件。      从大数据的角度来看，什么样的数据最有价值...  \n",
       "7  大嘴巴来了，想免费获取《大嘴巴漫谈数据挖掘》新书的，或者想和易老师学习数据挖掘的同学不要错过...  \n",
       "8     来源：中国矿业网      从中国地质调查局实物地质资料中心获悉，该中心与西安地质调查...  \n",
       "9  互联网时代，大数据发展得如火如荼，数据和信息量以指数方式增加。人们对数据进行更高层次的分析，...  "
      ]
     },
     "execution_count": 2,
     "metadata": {},
     "output_type": "execute_result"
    }
   ],
   "source": [
    "dataset.head(10)"
   ]
  },
  {
   "cell_type": "code",
   "execution_count": 3,
   "metadata": {
    "collapsed": false
   },
   "outputs": [
    {
     "data": {
      "text/plain": [
       "(1024, 3)"
      ]
     },
     "execution_count": 3,
     "metadata": {},
     "output_type": "execute_result"
    }
   ],
   "source": [
    "dataset.shape"
   ]
  },
  {
   "cell_type": "code",
   "execution_count": 6,
   "metadata": {
    "collapsed": true
   },
   "outputs": [],
   "source": [
    "import jieba\n",
    "def chinese_word_cut(mytext):\n",
    "    return \" \".join(jieba.cut(mytext))"
   ]
  },
  {
   "cell_type": "code",
   "execution_count": 7,
   "metadata": {
    "collapsed": false
   },
   "outputs": [
    {
     "name": "stderr",
     "output_type": "stream",
     "text": [
      "Building prefix dict from the default dictionary ...\n",
      "Dumping model to file cache /tmp/jieba.cache\n",
      "Loading model cost 2.348 seconds.\n",
      "Prefix dict has been built succesfully.\n"
     ]
    },
    {
     "data": {
      "text/plain": [
       "u'\\u5927\\u5634\\u5df4 \\u6765 \\u4e86 \\uff0c \\u60f3 \\u514d\\u8d39 \\u83b7\\u53d6 \\u300a \\u5927\\u5634\\u5df4 \\u6f2b\\u8c08 \\u6570\\u636e\\u6316\\u6398 \\u300b \\u65b0\\u4e66 \\u7684 \\uff0c \\u6216\\u8005 \\u60f3\\u548c\\u6613 \\u8001\\u5e08 \\u5b66\\u4e60 \\u6570\\u636e\\u6316\\u6398 \\u7684 \\u540c\\u5b66 \\u4e0d\\u8981 \\u9519\\u8fc7'"
      ]
     },
     "execution_count": 7,
     "metadata": {},
     "output_type": "execute_result"
    }
   ],
   "source": [
    "chinese_word_cut(\"大嘴巴来了，想免费获取《大嘴巴漫谈数据挖掘》新书的，或者想和易老师学习数据挖掘的同学不要错过\")"
   ]
  },
  {
   "cell_type": "code",
   "execution_count": 9,
   "metadata": {
    "collapsed": false
   },
   "outputs": [],
   "source": [
    "dataset['content_cutted'] = dataset.content.apply(chinese_word_cut)"
   ]
  },
  {
   "cell_type": "code",
   "execution_count": 10,
   "metadata": {
    "collapsed": false,
    "scrolled": true
   },
   "outputs": [
    {
     "data": {
      "text/plain": [
       "0       大 数据 产业 发展 受到 国家 重视 ， 而 大 数据 已经 上升 为 国家 战略 ， 未...\n",
       "1       点击 上方 “ 硅谷 周边 ” 关注 我 ， 收到 最新 的 文章 哦 ！ 昨天 ， Goo...\n",
       "2       国务院 总理 李克强 当地 时间 20 日 上午 在 纽约 下榻 饭店 同 美国 经济 、 ...\n",
       "3       2016 年 ， 全峰 集团 持续 挖掘 大 数据 、 云 计算 、 “ 互联网 + ” 等...\n",
       "4       贵州 理工学院 召开 大 数据分析 与 应用 专题 分享 会   借 “ 创响 中国 ” 贵...\n",
       "5       来源 ： 人人 都 是 产品 经理 　 　 数据分析 ， 是 产品 运营 极具 战略意义 的...\n",
       "6       R ， 与其说是 一门 语言 ， 不如说是 一个 软件 。             从大 数...\n",
       "7       大嘴巴 来 了 ， 想 免费 获取 《 大嘴巴 漫谈 数据挖掘 》 新书 的 ， 或者 想和...\n",
       "8             来源 ： 中国矿业 网             从 中国 地质 调查局 实物 地...\n",
       "9       互联网 时代 ， 大 数据 发展 得 如火如荼 ， 数据 和 信息量 以 指数 方式 增加 ...\n",
       "10        点击 上方 “ 天阳 科技 ”   可 关注 我们 项目 背景 某 城商行 目前 已有 ...\n",
       "11      < 数据 猿 导读 > 8 月 26 日 ， 金 电联 行 公司 在 北京 柏悦 酒店 举行...\n",
       "12        作者 ： 孙 姗姗 来源 ： 赛迪网   财大气粗 的 本土 企业 纷纷 在 走 国际 ...\n",
       "13      来源 ： 机器 之心 作者 ： JESSE   DUNIETZ 参与 ： 李 亚洲 、 吴攀...\n",
       "14      这是 一篇 很难 写 的 文章 ， 因为 我 希望 这 篇文章 能 对 学习者 有所 启发 ...\n",
       "15      数云 关注 我微 信号 ： 数云数 云 将 【 让 营销 更 有 价值 】 作为 企业 使命...\n",
       "16      把握 机会 ， 赢得 精彩 ！ 数据 只是 参考 ， 灵感 才 是 中奖 之 源泉 ， 您 ...\n",
       "17      大 数据 营销 面面观 ， DITA 营造 更 多 可能 ！ D / 大 数据   I / ...\n",
       "18      亲们 ， 你们 在 生产 中 ， 是否 遇到 突发事件 而 束手无策 ？ 生活 中 ， 是否...\n",
       "19      导读 2016 年 8 月 10 日 ， 森纵 艾德 （ 北京 ） 教育 科技股份 有限公司...\n",
       "20      核心思想 ： 《 2014 - 2015 年 中国 电影 产业 研究 报告 》 ， 从 行业...\n",
       "21      近 段时间 的 朋友圈 ， 最火 的 无疑 是 房价 ( 好像 一直 都 挺 火 ) 。  ...\n",
       "22            大 数据 行业 发展 规模 　 　 中国 大 数据 产业 起步晚 ， 发展 速度...\n",
       "23      本周 三 、 周四 ， InfoQ 有 3 场 免费 线上 直播 ， 快 来 报名 听 老 ...\n",
       "24                    关于 开展   2017 届 毕业生 基础 数据 采集 工作 的 通知\n",
       "25      1 、 引言   　 　 生产 的 数据 准确 、 及时 、 自动 的 采集 是 工业 互联...\n",
       "26      灯塔 财经 09 月 14 日讯   据 灯塔 大 数据 平台 统计 ， 2016 年 09...\n",
       "27      本文 转载自 ： 医院 医疗保险 管理 （ 微 信号 ： yyylbxgl ） 医疗 行业 ...\n",
       "28      点击 标题 下 「 大 数据 文摘 」 可 快捷 关注 “ 微笑 挑战 ” 最近 火 了 ：...\n",
       "29      中国 有 约 1.5 亿只 宠物狗 ， 养宠 人群 也 非常 多 ， 不同 的 人养 不同 ...\n",
       "                              ...                        \n",
       "994     热门 下载 （ 点击 标题 即可 阅读 ） ☞ 【 下载 】 2015 中国 数据 分析师 ...\n",
       "995     相关 数据 显示 ， 网上 购物 的 热潮 越来越 凶猛 ， 其中 ， 网购 的 女性 用户...\n",
       "996     说 到 全民 健身 ， 人们 可能 更 多 想到 的 是 广播操 、 绕圈 跑 、 太极拳 ...\n",
       "997     关于 举办 “ 万方数据 杯 文献检索 大赛 ” 的 通知 各 单位 ： 为 普及 信息 素...\n",
       "998     编程 派微 信号 ： codingpy 作者 ： 李宁 来源 ： 36 大 数据 缘起 是因...\n",
       "999     今日 微 信号 力荐   ( 长 按 红色 字 复制 ） 财富 管理 圈 mcaifu17 ...\n",
       "1000    图片 来源 ： Christopher   Furlong / Getty   Images...\n",
       "1001                 更 多 学习 视频 ， 尽请 关注 学有成 在线教育 平台 官方网站 。\n",
       "1002    点击 上方 蓝色 字体 即可 关注 我们 “ 五证 合一 ” 10 月 1 日起 施行 ： ...\n",
       "1003    ↑ 点击 上方 “ 出版 排行榜 ” ， 欢迎 订阅 CIP 就是 图书 在 版 编目 ， ...\n",
       "1004    市场营销 人员 不可或缺 的 鸡汤 — — 数据 可视化 理论 简述 我们 市场营销 人员 ...\n",
       "1005    点击 上方 “ 蓝字 ” 关注 本 公众 号 日前 ， 斯坦福大学 “ 人工智能 百年 研究...\n",
       "1006    北京 机动车 摇号 系统 已经 运行 了 接近 6 年 ， 很多 人 抱怨 自己 一直 摇 ...\n",
       "1007    一 、 证券 经纪 品牌 经营 的 必要性 　 　 谈到 证券 经纪 的 品牌 经营 ， 我...\n",
       "1008    作者 : 刘云   华医 资本 创始人 ， 投资 学 专业 博士 ， 医学 硕士 。 最近 ...\n",
       "1009    云 笔记 Evernote 宣布 了 要 采用 Google 的 云 平台 ， 并 逐渐 放...\n",
       "1010    【 导读 】 不知不觉 间 ， 我们 的 生活 被 那 张 看不见 、 却 无处不在 还 飞...\n",
       "1011    新华网 北京 8 月 31 日电   （ 黄浩 ） 近日 ， 《 国家 发展 改革 委 办公...\n",
       "1012    点击 上方 「 蓝色 字体 」 可 快速 关注 数据 可视化 ， 特别 是 基于 Web 的...\n",
       "1013    自从 九小章 成为 法律 人 以来 ， 身边 的 小伙伴 们 但凡 碰到 点 鸡毛蒜皮 的 ...\n",
       "1014                    从 政府 数据 开放 到 大 数据 交易所 成立 ， 从大 ...\n",
       "1015    在 最近 一次 数据挖掘 领域 语言 流行 度 的 调查 中 ， R 语言 位居 数据挖掘 ...\n",
       "1016    关注 我们 ， 每天 都 有 精彩内容 推送 ！ 9 月 18 日 ， 贵州省 “ 千企 改...\n",
       "1017    西咸 · 浪潮 举行 大 数据 双创 行动计划 发布 暨 战略 合作 签约 仪式 9 月 2...\n",
       "1018    浙报 地产 金融 会 （ zbdcjrh66 ） 是 地产 人 、 金融 人 、 高端 人士...\n",
       "1019    一个 Hive 查询 生成 多个 Map   Reduce   Job ， 一个 Map  ...\n",
       "1020    引 北上 广深 ， 每天 睁开眼睛 ， 就 比 昨天 多 了 150 + 餐厅 ， 光 北京...\n",
       "1021        为 贯彻落实 《 中共中央   国务院 关于 进一步 加强 城市规划 建设 管理工作...\n",
       "1022    本文 经 机器 之心 （ 微信 公众 号 ： almosthuman2014 ） 授权 转载...\n",
       "1023    eBay 一直 在 不断 地 收集 消费者 数据 ， 并 通过 机器 学习 方法 来 吸引 ...\n",
       "Name: content_cutted, dtype: object"
      ]
     },
     "execution_count": 10,
     "metadata": {},
     "output_type": "execute_result"
    }
   ],
   "source": [
    "dataset['content_cutted']"
   ]
  },
  {
   "cell_type": "code",
   "execution_count": 11,
   "metadata": {
    "collapsed": true
   },
   "outputs": [],
   "source": [
    "from sklearn.feature_extraction.text import TfidfVectorizer, CountVectorizer"
   ]
  },
  {
   "cell_type": "code",
   "execution_count": 12,
   "metadata": {
    "collapsed": true
   },
   "outputs": [],
   "source": [
    "n_features = 1000"
   ]
  },
  {
   "cell_type": "code",
   "execution_count": 14,
   "metadata": {
    "collapsed": false
   },
   "outputs": [],
   "source": [
    "tf_vectorizer = CountVectorizer(strip_accents = 'unicode',\n",
    "                                max_features=n_features,\n",
    "                                stop_words='english',\n",
    "                                max_df = 0.5,\n",
    "                                min_df = 10)\n",
    "tf = tf_vectorizer.fit_transform(dataset.content_cutted)"
   ]
  },
  {
   "cell_type": "code",
   "execution_count": 21,
   "metadata": {
    "collapsed": false
   },
   "outputs": [],
   "source": [
    "import numpy as np"
   ]
  },
  {
   "cell_type": "code",
   "execution_count": null,
   "metadata": {
    "collapsed": false
   },
   "outputs": [],
   "source": [
    "tf.shape"
   ]
  },
  {
   "cell_type": "code",
   "execution_count": 23,
   "metadata": {
    "collapsed": true
   },
   "outputs": [],
   "source": [
    "from sklearn.decomposition import LatentDirichletAllocation"
   ]
  },
  {
   "cell_type": "code",
   "execution_count": null,
   "metadata": {
    "collapsed": true
   },
   "outputs": [],
   "source": [
    "n_topics = 10\n",
    "lda = LatentDirichletAllocation(n_topics=n_topics, max_iter=50,\n",
    "                                learning_method='online',\n",
    "                                learning_offset=50.,\n",
    "                                random_state=0)"
   ]
  },
  {
   "cell_type": "code",
   "execution_count": null,
   "metadata": {
    "collapsed": false
   },
   "outputs": [],
   "source": [
    "lda.fit(tf)"
   ]
  },
  {
   "cell_type": "code",
   "execution_count": null,
   "metadata": {
    "collapsed": true
   },
   "outputs": [],
   "source": [
    "def print_top_words(model, feature_names, n_top_words):\n",
    "    for topic_idx, topic in enumerate(model.components_):\n",
    "        print(\"Topic #%d:\" % topic_idx)\n",
    "        print(\" \".join([feature_names[i]\n",
    "                        for i in topic.argsort()[:-n_top_words - 1:-1]]))\n",
    "    print()"
   ]
  },
  {
   "cell_type": "code",
   "execution_count": null,
   "metadata": {
    "collapsed": true
   },
   "outputs": [],
   "source": [
    "n_top_words = 20"
   ]
  },
  {
   "cell_type": "code",
   "execution_count": null,
   "metadata": {
    "collapsed": false
   },
   "outputs": [],
   "source": [
    "tf_feature_names = tf_vectorizer.get_feature_names()\n",
    "print_top_words(lda, tf_feature_names, n_top_words)"
   ]
  },
  {
   "cell_type": "code",
   "execution_count": null,
   "metadata": {
    "collapsed": false
   },
   "outputs": [],
   "source": [
    "import pyLDAvis\n",
    "import pyLDAvis.sklearn\n",
    "pyLDAvis.enable_notebook()\n",
    "pyLDAvis.sklearn.prepare(lda, tf, tf_vectorizer)"
   ]
  },
  {
   "cell_type": "code",
   "execution_count": null,
   "metadata": {
    "collapsed": true
   },
   "outputs": [],
   "source": []
  }
 ],
 "metadata": {
  "kernelspec": {
   "display_name": "Python 2",
   "language": "python",
   "name": "python2"
  },
  "language_info": {
   "codemirror_mode": {
    "name": "ipython",
    "version": 2
   },
   "file_extension": ".py",
   "mimetype": "text/x-python",
   "name": "python",
   "nbconvert_exporter": "python",
   "pygments_lexer": "ipython2",
   "version": "2.7.13"
  }
 },
 "nbformat": 4,
 "nbformat_minor": 2
}
